{
 "cells": [
  {
   "cell_type": "markdown",
   "id": "eedadca2-9fc5-4fa9-8792-6f1df59512a8",
   "metadata": {},
   "source": [
    "# **Healthcare_Linear _Regression_ML-PROJECT1**"
   ]
  },
  {
   "cell_type": "code",
   "execution_count": null,
   "id": "9a4e21be-159d-4cf7-aba0-dde2aa14e944",
   "metadata": {},
   "outputs": [],
   "source": [
    "# For This Linear_regression PRoject we required Below libraries"
   ]
  },
  {
   "cell_type": "code",
   "execution_count": 68,
   "id": "6ef87563-2c77-4f0a-9e5a-cadbb4f944c6",
   "metadata": {},
   "outputs": [],
   "source": [
    "import numpy as np\n",
    "import pandas as pd\n",
    "import matplotlib.pyplot as plt\n",
    "import seaborn as sns\n",
    "# For Building Linear_Model\n",
    "from sklearn.linear_model import LinearRegression\n",
    "from sklearn.model_selection import train_test_split\n",
    "# For VIF\n",
    "# !pip install statsmodels #installing Package   #conda install library_nmae then run this cell\n",
    "from statsmodels.stats.outliers_influence import variance_inflation_factor\n",
    "from statsmodels.tools.tools import add_constant\n",
    "# For MSE & MAE &  R2_score\n",
    "from sklearn.metrics import mean_squared_error,mean_absolute_error,r2_score\n",
    "# For normalization & Standardization\n",
    "from sklearn.preprocessing import MinMaxScaler\n",
    "from sklearn.preprocessing import StandardScaler\n",
    "# To avoid Warnings During programm execution\n",
    "import warnings\n",
    "warnings.filterwarnings(\"ignore\")"
   ]
  },
  {
   "cell_type": "code",
   "execution_count": null,
   "id": "21d00510-6684-494d-8f57-755f15eda166",
   "metadata": {},
   "outputs": [],
   "source": []
  },
  {
   "cell_type": "markdown",
   "id": "462b1a8f-81f4-4867-ad5a-6e60a529649b",
   "metadata": {},
   "source": [
    "# **`1) Problem Statement`**"
   ]
  },
  {
   "cell_type": "raw",
   "id": "6f131ed0-7928-4a14-ad55-f3cc7c650589",
   "metadata": {},
   "source": [
    "- We have Medical_Insurance dataset. There are 6 columns in dataset :-  [\"age\", \"sex\", \"bmi\",\"children\", \"smoker\",\"region\", \"charges\"]"
   ]
  },
  {
   "cell_type": "markdown",
   "id": "d0ea8084-c3b2-4872-a988-6894c8429a65",
   "metadata": {},
   "source": [
    "### **>> Aim is to predict charges based on following features/independent variables = \"age\", \"sex\", \"bmi\", \"children\", \"smoker\", \"region\"**"
   ]
  },
  {
   "cell_type": "markdown",
   "id": "28ee423f-8487-4b09-8f81-ca1ff8e75219",
   "metadata": {},
   "source": [
    "# **`2) Data Gathering`**"
   ]
  },
  {
   "cell_type": "raw",
   "id": "a5694684-4c43-42b0-9bb1-7d39082a739a",
   "metadata": {},
   "source": [
    "I have medical_insurance dataset which contains 1338 Rows & 7 columns.."
   ]
  },
  {
   "cell_type": "code",
   "execution_count": 69,
   "id": "58f5b49a-244d-43fc-b5c1-d55962625853",
   "metadata": {},
   "outputs": [
    {
     "data": {
      "text/html": [
       "<div>\n",
       "<style scoped>\n",
       "    .dataframe tbody tr th:only-of-type {\n",
       "        vertical-align: middle;\n",
       "    }\n",
       "\n",
       "    .dataframe tbody tr th {\n",
       "        vertical-align: top;\n",
       "    }\n",
       "\n",
       "    .dataframe thead th {\n",
       "        text-align: right;\n",
       "    }\n",
       "</style>\n",
       "<table border=\"1\" class=\"dataframe\">\n",
       "  <thead>\n",
       "    <tr style=\"text-align: right;\">\n",
       "      <th></th>\n",
       "      <th>age</th>\n",
       "      <th>sex</th>\n",
       "      <th>bmi</th>\n",
       "      <th>children</th>\n",
       "      <th>smoker</th>\n",
       "      <th>region</th>\n",
       "      <th>charges</th>\n",
       "    </tr>\n",
       "  </thead>\n",
       "  <tbody>\n",
       "    <tr>\n",
       "      <th>0</th>\n",
       "      <td>19</td>\n",
       "      <td>female</td>\n",
       "      <td>27.900</td>\n",
       "      <td>0</td>\n",
       "      <td>yes</td>\n",
       "      <td>southwest</td>\n",
       "      <td>16884.92400</td>\n",
       "    </tr>\n",
       "    <tr>\n",
       "      <th>1</th>\n",
       "      <td>18</td>\n",
       "      <td>male</td>\n",
       "      <td>33.770</td>\n",
       "      <td>1</td>\n",
       "      <td>no</td>\n",
       "      <td>southeast</td>\n",
       "      <td>1725.55230</td>\n",
       "    </tr>\n",
       "    <tr>\n",
       "      <th>2</th>\n",
       "      <td>28</td>\n",
       "      <td>male</td>\n",
       "      <td>33.000</td>\n",
       "      <td>3</td>\n",
       "      <td>no</td>\n",
       "      <td>southeast</td>\n",
       "      <td>4449.46200</td>\n",
       "    </tr>\n",
       "    <tr>\n",
       "      <th>3</th>\n",
       "      <td>33</td>\n",
       "      <td>male</td>\n",
       "      <td>22.705</td>\n",
       "      <td>0</td>\n",
       "      <td>no</td>\n",
       "      <td>northwest</td>\n",
       "      <td>21984.47061</td>\n",
       "    </tr>\n",
       "    <tr>\n",
       "      <th>4</th>\n",
       "      <td>32</td>\n",
       "      <td>male</td>\n",
       "      <td>28.880</td>\n",
       "      <td>0</td>\n",
       "      <td>no</td>\n",
       "      <td>northwest</td>\n",
       "      <td>3866.85520</td>\n",
       "    </tr>\n",
       "  </tbody>\n",
       "</table>\n",
       "</div>"
      ],
      "text/plain": [
       "   age     sex     bmi  children smoker     region      charges\n",
       "0   19  female  27.900         0    yes  southwest  16884.92400\n",
       "1   18    male  33.770         1     no  southeast   1725.55230\n",
       "2   28    male  33.000         3     no  southeast   4449.46200\n",
       "3   33    male  22.705         0     no  northwest  21984.47061\n",
       "4   32    male  28.880         0     no  northwest   3866.85520"
      ]
     },
     "execution_count": 69,
     "metadata": {},
     "output_type": "execute_result"
    }
   ],
   "source": [
    "df = pd.read_csv(\"medical_insurance.csv\")      # read_csv is a function in Pandas used to read csv files\n",
    "df.head()     # head() function in Pandas return 1st five rows"
   ]
  },
  {
   "cell_type": "code",
   "execution_count": 70,
   "id": "5705ce67-2236-45c9-b605-461b784ac3ee",
   "metadata": {},
   "outputs": [
    {
     "data": {
      "text/plain": [
       "(1338, 7)"
      ]
     },
     "execution_count": 70,
     "metadata": {},
     "output_type": "execute_result"
    }
   ],
   "source": [
    "df.shape  #shape is a property of pandas that return (Total no.of Rows , columns) in Dataset"
   ]
  },
  {
   "cell_type": "markdown",
   "id": "985918a5-64e0-4c28-b87a-838859cbe0f1",
   "metadata": {},
   "source": [
    "# **`3) Exploratory Data Analysis (EDA ) OR DQ check(Data Quality)`**"
   ]
  },
  {
   "cell_type": "raw",
   "id": "f5e95344-6df5-4d58-a383-137c1ca3c482",
   "metadata": {},
   "source": [
    "- In Exploratory Data Analysis (EDA ), I check missing values in data,"
   ]
  },
  {
   "cell_type": "markdown",
   "id": "5e97dca9-ebfd-4513-b80c-d13dfc997f5a",
   "metadata": {},
   "source": [
    "#### Columns-wise Analysis"
   ]
  },
  {
   "cell_type": "code",
   "execution_count": 71,
   "id": "329aad7b-c343-4c3f-900f-9ec303066878",
   "metadata": {},
   "outputs": [
    {
     "data": {
      "text/plain": [
       "Index(['age', 'sex', 'bmi', 'children', 'smoker', 'region', 'charges'], dtype='object')"
      ]
     },
     "execution_count": 71,
     "metadata": {},
     "output_type": "execute_result"
    }
   ],
   "source": [
    "df.columns  #columns is property in pandas that returns \"Name of columns in Dataset\""
   ]
  },
  {
   "cell_type": "code",
   "execution_count": 72,
   "id": "e36df66b-4191-48d8-a548-eec58254a828",
   "metadata": {},
   "outputs": [
    {
     "data": {
      "text/plain": [
       "array(['female', 'male'], dtype=object)"
      ]
     },
     "execution_count": 72,
     "metadata": {},
     "output_type": "execute_result"
    }
   ],
   "source": [
    "df[\"sex\"].unique()  #Check unique values in \"sex\" column"
   ]
  },
  {
   "cell_type": "code",
   "execution_count": 73,
   "id": "680a0335-9563-422d-93d8-2e399929f614",
   "metadata": {},
   "outputs": [
    {
     "data": {
      "text/plain": [
       "sex\n",
       "male      676\n",
       "female    662\n",
       "Name: count, dtype: int64"
      ]
     },
     "execution_count": 73,
     "metadata": {},
     "output_type": "execute_result"
    }
   ],
   "source": [
    "df[\"sex\"].value_counts()  # value_counts return how many count of Categorical values distributed in all rows in dataset."
   ]
  },
  {
   "cell_type": "code",
   "execution_count": 74,
   "id": "916ba7ef-c88b-4724-8b1f-2d49abbab42c",
   "metadata": {},
   "outputs": [
    {
     "data": {
      "text/plain": [
       "{'male': 676, 'female': 662}"
      ]
     },
     "execution_count": 74,
     "metadata": {},
     "output_type": "execute_result"
    }
   ],
   "source": [
    "df[\"sex\"].value_counts().to_dict() #.to_dict() function converts above format in dictionery format"
   ]
  },
  {
   "cell_type": "code",
   "execution_count": 75,
   "id": "510667c7-6965-4402-bc66-abb8f622b715",
   "metadata": {},
   "outputs": [
    {
     "data": {
      "text/plain": [
       "array([0, 1, 3, 2, 5, 4], dtype=int64)"
      ]
     },
     "execution_count": 75,
     "metadata": {},
     "output_type": "execute_result"
    }
   ],
   "source": [
    "df[\"children\"].unique()   #Check unique values in \"children\" column"
   ]
  },
  {
   "cell_type": "code",
   "execution_count": 76,
   "id": "f5eda073-c181-4b28-9730-ab486d315aeb",
   "metadata": {},
   "outputs": [
    {
     "data": {
      "text/plain": [
       "array(['yes', 'no'], dtype=object)"
      ]
     },
     "execution_count": 76,
     "metadata": {},
     "output_type": "execute_result"
    }
   ],
   "source": [
    "df[\"smoker\"].unique()     #Check unique values in \"smoker\" column"
   ]
  },
  {
   "cell_type": "code",
   "execution_count": 77,
   "id": "03190247-4213-4ac1-a0c8-9a7d63cbfddd",
   "metadata": {},
   "outputs": [
    {
     "data": {
      "text/plain": [
       "{'no': 1064, 'yes': 274}"
      ]
     },
     "execution_count": 77,
     "metadata": {},
     "output_type": "execute_result"
    }
   ],
   "source": [
    "df[\"smoker\"].value_counts().to_dict() #Thre are 1064 people are \"Non-Smokers\" & 274 people are \"Smokers\" in dataset"
   ]
  },
  {
   "cell_type": "code",
   "execution_count": 78,
   "id": "18b8d793-c9c5-4e8e-8d33-92d0c5cbcadf",
   "metadata": {},
   "outputs": [
    {
     "data": {
      "text/plain": [
       "array(['southwest', 'southeast', 'northwest', 'northeast'], dtype=object)"
      ]
     },
     "execution_count": 78,
     "metadata": {},
     "output_type": "execute_result"
    }
   ],
   "source": [
    "df.region.unique()  # Another way :- \"df.region.unique()\"\" ,We can use this, if column name doesn't include spaces in it.."
   ]
  },
  {
   "cell_type": "code",
   "execution_count": 79,
   "id": "cd73b23d-f990-42b6-8714-b76a16d718db",
   "metadata": {},
   "outputs": [
    {
     "data": {
      "text/plain": [
       "{'southeast': 364, 'southwest': 325, 'northwest': 325, 'northeast': 324}"
      ]
     },
     "execution_count": 79,
     "metadata": {},
     "output_type": "execute_result"
    }
   ],
   "source": [
    "df.region.value_counts().to_dict()"
   ]
  },
  {
   "cell_type": "markdown",
   "id": "da873077-9f33-4bc6-ba03-ab0855086775",
   "metadata": {},
   "source": [
    "#### To know Datatype of all columns ->"
   ]
  },
  {
   "cell_type": "code",
   "execution_count": 80,
   "id": "58b4c956-fc48-4b21-83f0-b15b42d96667",
   "metadata": {},
   "outputs": [
    {
     "data": {
      "text/plain": [
       "age           int64\n",
       "sex          object\n",
       "bmi         float64\n",
       "children      int64\n",
       "smoker       object\n",
       "region       object\n",
       "charges     float64\n",
       "dtype: object"
      ]
     },
     "execution_count": 80,
     "metadata": {},
     "output_type": "execute_result"
    }
   ],
   "source": [
    "df.dtypes"
   ]
  },
  {
   "cell_type": "raw",
   "id": "a6586ead-436a-4307-88a1-b5c23d5c5053",
   "metadata": {},
   "source": [
    "- In df.dtypes, \"age\",\"children\",\"charges\", \"bmi\" are in numerical values like int/float\n",
    "- \"sex\",\"smoker\",\"region\" are Categorical values in \"Object\" D-type (Object:: means it is in \"String\" datatype..)"
   ]
  },
  {
   "cell_type": "code",
   "execution_count": 81,
   "id": "b28d2640-82c7-49f8-ad8b-1934357b0e62",
   "metadata": {},
   "outputs": [
    {
     "data": {
      "text/plain": [
       "(1338, 7)"
      ]
     },
     "execution_count": 81,
     "metadata": {},
     "output_type": "execute_result"
    }
   ],
   "source": [
    "df.shape"
   ]
  },
  {
   "cell_type": "code",
   "execution_count": 82,
   "id": "964a1afc-e63c-4720-bfd0-1d04ce3922be",
   "metadata": {},
   "outputs": [
    {
     "data": {
      "text/plain": [
       "1"
      ]
     },
     "execution_count": 82,
     "metadata": {},
     "output_type": "execute_result"
    }
   ],
   "source": [
    "df.duplicated().sum() #check duplicates in df"
   ]
  },
  {
   "cell_type": "raw",
   "id": "afb426f6-52bc-432f-aa9d-81788f09aabf",
   "metadata": {},
   "source": [
    "df.drop_duplicates(keep='first',inplace=True) #keep=keep 1st occurence & remove all ocuurence except 1st\n",
    "df.shape \n",
    "# to drop specific column index use: df.drop_duplicates(subset=[\"column_name\"],keep='first,inplace=True)"
   ]
  },
  {
   "cell_type": "raw",
   "id": "0aa7385b-1f1f-476d-8a92-b71c73540227",
   "metadata": {},
   "source": [
    "duplicates_rows = df[df.duplicated(keep=False)] #To know which rows are duplicated\n",
    "duplicates_rows"
   ]
  },
  {
   "cell_type": "markdown",
   "id": "102614b8-1842-4761-b47e-84c76fa1f7e6",
   "metadata": {},
   "source": [
    "#### To know peroperties of Dataset ->"
   ]
  },
  {
   "cell_type": "code",
   "execution_count": 83,
   "id": "9874688f-3cca-44e8-a69b-2804e0647405",
   "metadata": {},
   "outputs": [
    {
     "name": "stdout",
     "output_type": "stream",
     "text": [
      "<class 'pandas.core.frame.DataFrame'>\n",
      "RangeIndex: 1338 entries, 0 to 1337\n",
      "Data columns (total 7 columns):\n",
      " #   Column    Non-Null Count  Dtype  \n",
      "---  ------    --------------  -----  \n",
      " 0   age       1338 non-null   int64  \n",
      " 1   sex       1338 non-null   object \n",
      " 2   bmi       1338 non-null   float64\n",
      " 3   children  1338 non-null   int64  \n",
      " 4   smoker    1338 non-null   object \n",
      " 5   region    1338 non-null   object \n",
      " 6   charges   1338 non-null   float64\n",
      "dtypes: float64(2), int64(2), object(3)\n",
      "memory usage: 73.3+ KB\n"
     ]
    }
   ],
   "source": [
    "df.info()"
   ]
  },
  {
   "cell_type": "raw",
   "id": "48451152-2f4c-4ab7-86f2-57c4ae849e10",
   "metadata": {},
   "source": [
    "- in df.info(), It shows properties of Dataset Like:\n",
    "1. there are 1338 rows & 7 columns \n",
    "2. type(df) is 'pandas.core.frame.DataFrame'\n",
    "3. it shows non-null values counts in data including all rows\n",
    "4. it shows Memory usage :73.3 KB"
   ]
  },
  {
   "cell_type": "code",
   "execution_count": 84,
   "id": "b07e4eea-5f07-484e-b604-5277c85cd6d2",
   "metadata": {},
   "outputs": [
    {
     "data": {
      "text/plain": [
       "pandas.core.frame.DataFrame"
      ]
     },
     "execution_count": 84,
     "metadata": {},
     "output_type": "execute_result"
    }
   ],
   "source": [
    "type(df)  # to know type of dataframe"
   ]
  },
  {
   "cell_type": "markdown",
   "id": "0c0d27a4-64c7-478c-9234-6f7554d07f60",
   "metadata": {},
   "source": [
    "#### Check missing values in dataset ->"
   ]
  },
  {
   "cell_type": "code",
   "execution_count": 85,
   "id": "05a7ab5f-9e36-4729-b435-8d8a2814350a",
   "metadata": {},
   "outputs": [
    {
     "data": {
      "text/plain": [
       "age         0\n",
       "sex         0\n",
       "bmi         0\n",
       "children    0\n",
       "smoker      0\n",
       "region      0\n",
       "charges     0\n",
       "dtype: int64"
      ]
     },
     "execution_count": 85,
     "metadata": {},
     "output_type": "execute_result"
    }
   ],
   "source": [
    "df.isna().sum()   # df.isna().sum() OR df.isnull().sum() function used to check missing values count..."
   ]
  },
  {
   "cell_type": "raw",
   "id": "f651640b-93a0-47d5-bde6-9bff11ae3cdc",
   "metadata": {},
   "source": [
    "- As, There are no missing values in any column & if missing value occurs We have to fill it by using df.fillna(df.mean(),inplace=True)"
   ]
  },
  {
   "cell_type": "code",
   "execution_count": 86,
   "id": "b77febfa-93dc-4a1c-9577-0bdbbb5edcd4",
   "metadata": {},
   "outputs": [
    {
     "data": {
      "text/html": [
       "<div>\n",
       "<style scoped>\n",
       "    .dataframe tbody tr th:only-of-type {\n",
       "        vertical-align: middle;\n",
       "    }\n",
       "\n",
       "    .dataframe tbody tr th {\n",
       "        vertical-align: top;\n",
       "    }\n",
       "\n",
       "    .dataframe thead th {\n",
       "        text-align: right;\n",
       "    }\n",
       "</style>\n",
       "<table border=\"1\" class=\"dataframe\">\n",
       "  <thead>\n",
       "    <tr style=\"text-align: right;\">\n",
       "      <th></th>\n",
       "      <th>Missing Values</th>\n",
       "      <th>Missing values Mean%</th>\n",
       "    </tr>\n",
       "  </thead>\n",
       "  <tbody>\n",
       "    <tr>\n",
       "      <th>age</th>\n",
       "      <td>0</td>\n",
       "      <td>0.0</td>\n",
       "    </tr>\n",
       "    <tr>\n",
       "      <th>sex</th>\n",
       "      <td>0</td>\n",
       "      <td>0.0</td>\n",
       "    </tr>\n",
       "    <tr>\n",
       "      <th>bmi</th>\n",
       "      <td>0</td>\n",
       "      <td>0.0</td>\n",
       "    </tr>\n",
       "    <tr>\n",
       "      <th>children</th>\n",
       "      <td>0</td>\n",
       "      <td>0.0</td>\n",
       "    </tr>\n",
       "    <tr>\n",
       "      <th>smoker</th>\n",
       "      <td>0</td>\n",
       "      <td>0.0</td>\n",
       "    </tr>\n",
       "    <tr>\n",
       "      <th>region</th>\n",
       "      <td>0</td>\n",
       "      <td>0.0</td>\n",
       "    </tr>\n",
       "    <tr>\n",
       "      <th>charges</th>\n",
       "      <td>0</td>\n",
       "      <td>0.0</td>\n",
       "    </tr>\n",
       "  </tbody>\n",
       "</table>\n",
       "</div>"
      ],
      "text/plain": [
       "          Missing Values  Missing values Mean%\n",
       "age                    0                   0.0\n",
       "sex                    0                   0.0\n",
       "bmi                    0                   0.0\n",
       "children               0                   0.0\n",
       "smoker                 0                   0.0\n",
       "region                 0                   0.0\n",
       "charges                0                   0.0"
      ]
     },
     "execution_count": 86,
     "metadata": {},
     "output_type": "execute_result"
    }
   ],
   "source": [
    "pd.DataFrame({\"Missing Values\":df.isnull().sum(),\"Missing values Mean%\":df.isna().mean()})"
   ]
  },
  {
   "cell_type": "markdown",
   "id": "74480c4f-e3dd-4a0e-9773-f0998067d5d4",
   "metadata": {},
   "source": [
    "## **Data Visualization**"
   ]
  },
  {
   "cell_type": "markdown",
   "id": "25bd2921-aa47-4ed0-847b-fdf16b6c0cda",
   "metadata": {},
   "source": [
    "#### To understand relations/patterns in dataset between Multiple independent variables (x1,x2..) & dependent variables(Y)->"
   ]
  },
  {
   "cell_type": "code",
   "execution_count": 87,
   "id": "2e134237-2b45-412c-b55a-20fb9a36794e",
   "metadata": {},
   "outputs": [],
   "source": [
    "df1 = df.copy() # so Original df stays as it is & we copy original df to df1 variable"
   ]
  },
  {
   "cell_type": "code",
   "execution_count": 88,
   "id": "8b24389a-701b-417e-9ecb-c4da3959ceee",
   "metadata": {},
   "outputs": [],
   "source": [
    "import seaborn as sns   #import seaborn library "
   ]
  },
  {
   "cell_type": "code",
   "execution_count": 89,
   "id": "ceae3c0d-b183-4539-bf6f-1966bde6167e",
   "metadata": {
    "scrolled": true
   },
   "outputs": [
    {
     "data": {
      "text/plain": [
       "<seaborn.axisgrid.PairGrid at 0x134cfa0bf50>"
      ]
     },
     "execution_count": 89,
     "metadata": {},
     "output_type": "execute_result"
    },
    {
     "data": {
      "image/png": "[encoded data removed]",
      "text/plain": [
       "<Figure size 1000x1000 with 20 Axes>"
      ]
     },
     "metadata": {},
     "output_type": "display_data"
    }
   ],
   "source": [
    "sns.pairplot(df1)"
   ]
  },
  {
   "cell_type": "raw",
   "id": "3cda3810-4ab5-4b41-83a8-794e05230a1f",
   "metadata": {},
   "source": [
    "## From above pairplot, We see there is relation in Age & Charges ->as Age increases, Charges tends to increases."
   ]
  },
  {
   "cell_type": "code",
   "execution_count": 90,
   "id": "64e7f1fc-7872-4db9-95e6-962bd4eb5ab5",
   "metadata": {},
   "outputs": [
    {
     "data": {
      "text/plain": [
       "<Axes: xlabel='age', ylabel='charges'>"
      ]
     },
     "execution_count": 90,
     "metadata": {},
     "output_type": "execute_result"
    },
    {
     "data": {
      "image/png": "[encoded data removed]",
      "text/plain": [
       "<Figure size 640x480 with 1 Axes>"
      ]
     },
     "metadata": {},
     "output_type": "display_data"
    }
   ],
   "source": [
    "sns.scatterplot(data=df,x=\"age\",y=\"charges\")"
   ]
  },
  {
   "cell_type": "code",
   "execution_count": 91,
   "id": "e8611d9c-9285-4097-8bea-511ed9398a0f",
   "metadata": {},
   "outputs": [
    {
     "data": {
      "text/plain": [
       "<Axes: xlabel='age', ylabel='charges'>"
      ]
     },
     "execution_count": 91,
     "metadata": {},
     "output_type": "execute_result"
    },
    {
     "data": {
      "image/png": "[encoded data removed]",
      "text/plain": [
       "<Figure size 640x480 with 1 Axes>"
      ]
     },
     "metadata": {},
     "output_type": "display_data"
    }
   ],
   "source": [
    "#OR\n",
    "df.plot(x=\"age\",y=\"charges\",kind=\"scatter\")  # kind means :type of plot(bar/histogram/boxplot/scatter)"
   ]
  },
  {
   "cell_type": "code",
   "execution_count": 92,
   "id": "0a359ad1-723d-4bb6-bb35-84b6574415ea",
   "metadata": {},
   "outputs": [
    {
     "data": {
      "text/plain": [
       "<Axes: xlabel='smoker', ylabel='region'>"
      ]
     },
     "execution_count": 92,
     "metadata": {},
     "output_type": "execute_result"
    },
    {
     "data": {
      "image/png": "[encoded data removed]",
      "text/plain": [
       "<Figure size 640x480 with 1 Axes>"
      ]
     },
     "metadata": {},
     "output_type": "display_data"
    }
   ],
   "source": [
    "sns.histplot(data=df1,x=\"smoker\",y=\"region\")  #for categorical values use histplot"
   ]
  },
  {
   "cell_type": "code",
   "execution_count": null,
   "id": "e2dae305-1d89-4cb8-9c6f-8c35ed93f615",
   "metadata": {},
   "outputs": [],
   "source": []
  },
  {
   "cell_type": "markdown",
   "id": "30288377-8c18-4f38-8394-8d91cb063270",
   "metadata": {},
   "source": [
    "# **`4. Feature Engineering`**"
   ]
  },
  {
   "cell_type": "raw",
   "id": "8b39a76e-96ab-461f-9e07-b6e8ab013b7a",
   "metadata": {},
   "source": [
    "### In feature Engineering Below steps followed:\n",
    "1) Drop unnecessary columns\n",
    "2) Encoded Categorical values:- I replace categarical values(like-yes/no) to numerical values(0,1) in Machine understandable language like integer.."
   ]
  },
  {
   "cell_type": "markdown",
   "id": "69bb626c-5245-4976-a10f-8157e0cddddf",
   "metadata": {},
   "source": [
    "### **1) Drop unnecessary columns..**"
   ]
  },
  {
   "cell_type": "code",
   "execution_count": 93,
   "id": "f1435965-e194-45c9-bd5c-ebb2efd315d4",
   "metadata": {},
   "outputs": [
    {
     "data": {
      "text/plain": [
       "Index(['age', 'sex', 'bmi', 'children', 'smoker', 'region', 'charges'], dtype='object')"
      ]
     },
     "execution_count": 93,
     "metadata": {},
     "output_type": "execute_result"
    }
   ],
   "source": [
    "df1.columns"
   ]
  },
  {
   "cell_type": "code",
   "execution_count": 94,
   "id": "750a53a2-59e1-44a2-8fae-3ad8df62e1e7",
   "metadata": {},
   "outputs": [],
   "source": [
    "df1.drop('sex',axis=1,inplace=True)"
   ]
  },
  {
   "cell_type": "markdown",
   "id": "23027347-08db-492b-a611-25a1ff0fe5b0",
   "metadata": {},
   "source": [
    "### **2) Replacing Categorical values to Numrerical Values**-->>"
   ]
  },
  {
   "cell_type": "code",
   "execution_count": 95,
   "id": "a6f59940-6a7b-44e7-accd-7fa9175f1e23",
   "metadata": {},
   "outputs": [
    {
     "data": {
      "text/plain": [
       "Index(['age', 'bmi', 'children', 'smoker', 'region', 'charges'], dtype='object')"
      ]
     },
     "execution_count": 95,
     "metadata": {},
     "output_type": "execute_result"
    }
   ],
   "source": [
    "df1.columns"
   ]
  },
  {
   "cell_type": "raw",
   "id": "b841bf73-facb-48ec-bc0d-f7d55fc8b9f5",
   "metadata": {},
   "source": [
    "- I have to drop Unnecessary column like [\"sex\"] ,because it doesn't give useful information excpet male/female & One of important thing is in Real-world scenerio Male/Female doesn't help to predict charges of medical insurance, SO i have drop [\"sex\"] columns"
   ]
  },
  {
   "cell_type": "code",
   "execution_count": 96,
   "id": "f50a6d27-51b5-4666-9a80-18c058e5e300",
   "metadata": {},
   "outputs": [
    {
     "data": {
      "text/html": [
       "<div>\n",
       "<style scoped>\n",
       "    .dataframe tbody tr th:only-of-type {\n",
       "        vertical-align: middle;\n",
       "    }\n",
       "\n",
       "    .dataframe tbody tr th {\n",
       "        vertical-align: top;\n",
       "    }\n",
       "\n",
       "    .dataframe thead th {\n",
       "        text-align: right;\n",
       "    }\n",
       "</style>\n",
       "<table border=\"1\" class=\"dataframe\">\n",
       "  <thead>\n",
       "    <tr style=\"text-align: right;\">\n",
       "      <th></th>\n",
       "      <th>age</th>\n",
       "      <th>bmi</th>\n",
       "      <th>children</th>\n",
       "      <th>smoker</th>\n",
       "      <th>region</th>\n",
       "      <th>charges</th>\n",
       "    </tr>\n",
       "  </thead>\n",
       "  <tbody>\n",
       "    <tr>\n",
       "      <th>0</th>\n",
       "      <td>19</td>\n",
       "      <td>27.90</td>\n",
       "      <td>0</td>\n",
       "      <td>yes</td>\n",
       "      <td>southwest</td>\n",
       "      <td>16884.9240</td>\n",
       "    </tr>\n",
       "    <tr>\n",
       "      <th>1</th>\n",
       "      <td>18</td>\n",
       "      <td>33.77</td>\n",
       "      <td>1</td>\n",
       "      <td>no</td>\n",
       "      <td>southeast</td>\n",
       "      <td>1725.5523</td>\n",
       "    </tr>\n",
       "  </tbody>\n",
       "</table>\n",
       "</div>"
      ],
      "text/plain": [
       "   age    bmi  children smoker     region     charges\n",
       "0   19  27.90         0    yes  southwest  16884.9240\n",
       "1   18  33.77         1     no  southeast   1725.5523"
      ]
     },
     "execution_count": 96,
     "metadata": {},
     "output_type": "execute_result"
    }
   ],
   "source": [
    "df1.head(2)  #\"sex\" column in df1 , i will drop now"
   ]
  },
  {
   "cell_type": "markdown",
   "id": "23c2d5e2-17c6-4b15-a739-5c9e188af327",
   "metadata": {},
   "source": [
    "#### Now, replace categorical values to Numerical(int,float) values for Machines Understanding Language ->>"
   ]
  },
  {
   "cell_type": "code",
   "execution_count": 97,
   "id": "e3c4a846-5702-4ff4-8d1f-bbefe5db18dd",
   "metadata": {},
   "outputs": [
    {
     "data": {
      "text/plain": [
       "Index(['age', 'bmi', 'children', 'smoker', 'region', 'charges'], dtype='object')"
      ]
     },
     "execution_count": 97,
     "metadata": {},
     "output_type": "execute_result"
    }
   ],
   "source": [
    "df1.columns"
   ]
  },
  {
   "cell_type": "code",
   "execution_count": 98,
   "id": "d64c4614-e19b-47ce-bfc1-c36498bab3ac",
   "metadata": {},
   "outputs": [],
   "source": [
    "## \"age\" & \"bmi\" & \"children\" &\"charges\" are already in Numerical values\n",
    "## Here, \"smoker\" & \"region\" are categorical values that we have to convert in Numerical values"
   ]
  },
  {
   "cell_type": "code",
   "execution_count": 99,
   "id": "eae73a01-0a32-413d-badd-a6259a76b7de",
   "metadata": {},
   "outputs": [
    {
     "data": {
      "text/plain": [
       "array(['yes', 'no'], dtype=object)"
      ]
     },
     "execution_count": 99,
     "metadata": {},
     "output_type": "execute_result"
    }
   ],
   "source": [
    "df1[\"smoker\"].unique()"
   ]
  },
  {
   "cell_type": "code",
   "execution_count": 100,
   "id": "456061f2-0a45-418e-b47c-6594e485d756",
   "metadata": {},
   "outputs": [],
   "source": [
    "df1[\"smoker\"] = df1[\"smoker\"].replace({\"yes\":1 , \"no\":0})  # I replace \"yes\" with 1 & \"no\" with 0"
   ]
  },
  {
   "cell_type": "code",
   "execution_count": 101,
   "id": "0f0fe497-7ce2-45fc-835e-bf82f3ccdd09",
   "metadata": {},
   "outputs": [
    {
     "data": {
      "text/plain": [
       "array(['southwest', 'southeast', 'northwest', 'northeast'], dtype=object)"
      ]
     },
     "execution_count": 101,
     "metadata": {},
     "output_type": "execute_result"
    }
   ],
   "source": [
    "df1[\"region\"].unique()"
   ]
  },
  {
   "cell_type": "code",
   "execution_count": 102,
   "id": "12c14931-6ad1-478a-be73-446869c47b30",
   "metadata": {},
   "outputs": [],
   "source": [
    "df1[\"region\"] = df1[\"region\"].replace({'southwest':1, 'southeast':2, 'northwest':3, 'northeast':4})  #replacing "
   ]
  },
  {
   "cell_type": "raw",
   "id": "c877b296-4ed9-4687-8f65-a70bf9b1deb4",
   "metadata": {},
   "source": [
    "# To check whether I replace successfully to numerical values for \"smoker\" & \"region\">>>"
   ]
  },
  {
   "cell_type": "code",
   "execution_count": 103,
   "id": "c0bbf864-3cb5-45c8-98e7-a0ccd86ffce7",
   "metadata": {},
   "outputs": [
    {
     "data": {
      "text/html": [
       "<div>\n",
       "<style scoped>\n",
       "    .dataframe tbody tr th:only-of-type {\n",
       "        vertical-align: middle;\n",
       "    }\n",
       "\n",
       "    .dataframe tbody tr th {\n",
       "        vertical-align: top;\n",
       "    }\n",
       "\n",
       "    .dataframe thead th {\n",
       "        text-align: right;\n",
       "    }\n",
       "</style>\n",
       "<table border=\"1\" class=\"dataframe\">\n",
       "  <thead>\n",
       "    <tr style=\"text-align: right;\">\n",
       "      <th></th>\n",
       "      <th>age</th>\n",
       "      <th>bmi</th>\n",
       "      <th>children</th>\n",
       "      <th>smoker</th>\n",
       "      <th>region</th>\n",
       "      <th>charges</th>\n",
       "    </tr>\n",
       "  </thead>\n",
       "  <tbody>\n",
       "    <tr>\n",
       "      <th>0</th>\n",
       "      <td>19</td>\n",
       "      <td>27.900</td>\n",
       "      <td>0</td>\n",
       "      <td>1</td>\n",
       "      <td>1</td>\n",
       "      <td>16884.92400</td>\n",
       "    </tr>\n",
       "    <tr>\n",
       "      <th>1</th>\n",
       "      <td>18</td>\n",
       "      <td>33.770</td>\n",
       "      <td>1</td>\n",
       "      <td>0</td>\n",
       "      <td>2</td>\n",
       "      <td>1725.55230</td>\n",
       "    </tr>\n",
       "    <tr>\n",
       "      <th>2</th>\n",
       "      <td>28</td>\n",
       "      <td>33.000</td>\n",
       "      <td>3</td>\n",
       "      <td>0</td>\n",
       "      <td>2</td>\n",
       "      <td>4449.46200</td>\n",
       "    </tr>\n",
       "    <tr>\n",
       "      <th>3</th>\n",
       "      <td>33</td>\n",
       "      <td>22.705</td>\n",
       "      <td>0</td>\n",
       "      <td>0</td>\n",
       "      <td>3</td>\n",
       "      <td>21984.47061</td>\n",
       "    </tr>\n",
       "    <tr>\n",
       "      <th>4</th>\n",
       "      <td>32</td>\n",
       "      <td>28.880</td>\n",
       "      <td>0</td>\n",
       "      <td>0</td>\n",
       "      <td>3</td>\n",
       "      <td>3866.85520</td>\n",
       "    </tr>\n",
       "  </tbody>\n",
       "</table>\n",
       "</div>"
      ],
      "text/plain": [
       "   age     bmi  children  smoker  region      charges\n",
       "0   19  27.900         0       1       1  16884.92400\n",
       "1   18  33.770         1       0       2   1725.55230\n",
       "2   28  33.000         3       0       2   4449.46200\n",
       "3   33  22.705         0       0       3  21984.47061\n",
       "4   32  28.880         0       0       3   3866.85520"
      ]
     },
     "execution_count": 103,
     "metadata": {},
     "output_type": "execute_result"
    }
   ],
   "source": [
    "df1.head()  #Now, all columns are in Numerical values (int/float)"
   ]
  },
  {
   "cell_type": "markdown",
   "id": "7294b8bf-bff4-4fec-9f84-aadbecbb7a39",
   "metadata": {},
   "source": [
    "# **`5. Feature Selection`**"
   ]
  },
  {
   "cell_type": "raw",
   "id": "f0bb9a9f-3f7d-406f-98b3-0e456716b6ad",
   "metadata": {},
   "source": [
    "1) Correlation analysis\n",
    "2) Checking Multicollinarity (By VIF)  variance inflation factor"
   ]
  },
  {
   "cell_type": "markdown",
   "id": "ea97bb51-64a8-4e98-a4df-8cdf18195505",
   "metadata": {},
   "source": [
    "## **Assumptions Of Linear Regression**\n",
    "### **1) Linearity :- To know relationship between Independent Variable(x1,x2,x3) & Dependent Variable(Y)**"
   ]
  },
  {
   "cell_type": "code",
   "execution_count": 104,
   "id": "90edc22e-6f85-483c-aaa4-c0d049b1bf6e",
   "metadata": {},
   "outputs": [
    {
     "data": {
      "text/html": [
       "<div>\n",
       "<style scoped>\n",
       "    .dataframe tbody tr th:only-of-type {\n",
       "        vertical-align: middle;\n",
       "    }\n",
       "\n",
       "    .dataframe tbody tr th {\n",
       "        vertical-align: top;\n",
       "    }\n",
       "\n",
       "    .dataframe thead th {\n",
       "        text-align: right;\n",
       "    }\n",
       "</style>\n",
       "<table border=\"1\" class=\"dataframe\">\n",
       "  <thead>\n",
       "    <tr style=\"text-align: right;\">\n",
       "      <th></th>\n",
       "      <th>age</th>\n",
       "      <th>bmi</th>\n",
       "      <th>children</th>\n",
       "      <th>smoker</th>\n",
       "      <th>region</th>\n",
       "      <th>charges</th>\n",
       "    </tr>\n",
       "  </thead>\n",
       "  <tbody>\n",
       "    <tr>\n",
       "      <th>age</th>\n",
       "      <td>1.000000</td>\n",
       "      <td>0.109272</td>\n",
       "      <td>0.042469</td>\n",
       "      <td>-0.025019</td>\n",
       "      <td>-0.002127</td>\n",
       "      <td>0.299008</td>\n",
       "    </tr>\n",
       "    <tr>\n",
       "      <th>bmi</th>\n",
       "      <td>0.109272</td>\n",
       "      <td>1.000000</td>\n",
       "      <td>0.012759</td>\n",
       "      <td>0.003750</td>\n",
       "      <td>-0.157566</td>\n",
       "      <td>0.198341</td>\n",
       "    </tr>\n",
       "    <tr>\n",
       "      <th>children</th>\n",
       "      <td>0.042469</td>\n",
       "      <td>0.012759</td>\n",
       "      <td>1.000000</td>\n",
       "      <td>0.007673</td>\n",
       "      <td>-0.016569</td>\n",
       "      <td>0.067998</td>\n",
       "    </tr>\n",
       "    <tr>\n",
       "      <th>smoker</th>\n",
       "      <td>-0.025019</td>\n",
       "      <td>0.003750</td>\n",
       "      <td>0.007673</td>\n",
       "      <td>1.000000</td>\n",
       "      <td>0.002181</td>\n",
       "      <td>0.787251</td>\n",
       "    </tr>\n",
       "    <tr>\n",
       "      <th>region</th>\n",
       "      <td>-0.002127</td>\n",
       "      <td>-0.157566</td>\n",
       "      <td>-0.016569</td>\n",
       "      <td>0.002181</td>\n",
       "      <td>1.000000</td>\n",
       "      <td>0.006208</td>\n",
       "    </tr>\n",
       "    <tr>\n",
       "      <th>charges</th>\n",
       "      <td>0.299008</td>\n",
       "      <td>0.198341</td>\n",
       "      <td>0.067998</td>\n",
       "      <td>0.787251</td>\n",
       "      <td>0.006208</td>\n",
       "      <td>1.000000</td>\n",
       "    </tr>\n",
       "  </tbody>\n",
       "</table>\n",
       "</div>"
      ],
      "text/plain": [
       "               age       bmi  children    smoker    region   charges\n",
       "age       1.000000  0.109272  0.042469 -0.025019 -0.002127  0.299008\n",
       "bmi       0.109272  1.000000  0.012759  0.003750 -0.157566  0.198341\n",
       "children  0.042469  0.012759  1.000000  0.007673 -0.016569  0.067998\n",
       "smoker   -0.025019  0.003750  0.007673  1.000000  0.002181  0.787251\n",
       "region   -0.002127 -0.157566 -0.016569  0.002181  1.000000  0.006208\n",
       "charges   0.299008  0.198341  0.067998  0.787251  0.006208  1.000000"
      ]
     },
     "execution_count": 104,
     "metadata": {},
     "output_type": "execute_result"
    }
   ],
   "source": [
    "df1.corr()"
   ]
  },
  {
   "cell_type": "markdown",
   "id": "36852a73-e5e2-4fb9-91fe-2718858b5ae6",
   "metadata": {},
   "source": [
    "#### R_value range is -1 to +1\n",
    "- if R_value > +0.7 ->>>Strong +ve relation\n",
    "- if R_value < -0.7 ->>>Strong -ve relation\n",
    "- if R_value = 0 ->>> No relation"
   ]
  },
  {
   "cell_type": "raw",
   "id": "6a0db468-d8ec-4a0f-a18e-dde0acf4cea4",
   "metadata": {},
   "source": [
    "##Summary of the Above **Corelation of Coefficient Matrix**(R_value)\n",
    "The strongest correlations are:\n",
    "Charges and Age: 𝑟_value=0.410797\n",
    "Charges and Smoker: 𝑟_value=0.405802\n",
    ":) These indicate that both age and smoking status are relatively strong predictors of insurance charges in  dataset."
   ]
  },
  {
   "cell_type": "code",
   "execution_count": 105,
   "id": "ba0cd00e-94ea-4fa2-a694-711fb4528346",
   "metadata": {},
   "outputs": [
    {
     "data": {
      "text/plain": [
       "<Axes: >"
      ]
     },
     "execution_count": 105,
     "metadata": {},
     "output_type": "execute_result"
    },
    {
     "data": {
      "image/png": "[encoded data removed]",
      "text/plain": [
       "<Figure size 640x480 with 2 Axes>"
      ]
     },
     "metadata": {},
     "output_type": "display_data"
    }
   ],
   "source": [
    "sns.heatmap(df1.corr(),annot=True,cmap='prism')"
   ]
  },
  {
   "cell_type": "markdown",
   "id": "0edf9de2-1928-4303-a647-6103835ed649",
   "metadata": {},
   "source": [
    "### Checking Multicollinearity between Independent variable(x1,x2,x3) by VIF (variance inflation factor)"
   ]
  },
  {
   "cell_type": "raw",
   "id": "6dab34e4-df5e-4814-93b4-2c9d5adc33e1",
   "metadata": {},
   "source": [
    "#### If VIF >= 5 we would drop that independent features/variables"
   ]
  },
  {
   "cell_type": "code",
   "execution_count": 106,
   "id": "a8f6e00d-ba27-43b8-9feb-466c518f3de8",
   "metadata": {},
   "outputs": [
    {
     "data": {
      "text/html": [
       "<div>\n",
       "<style scoped>\n",
       "    .dataframe tbody tr th:only-of-type {\n",
       "        vertical-align: middle;\n",
       "    }\n",
       "\n",
       "    .dataframe tbody tr th {\n",
       "        vertical-align: top;\n",
       "    }\n",
       "\n",
       "    .dataframe thead th {\n",
       "        text-align: right;\n",
       "    }\n",
       "</style>\n",
       "<table border=\"1\" class=\"dataframe\">\n",
       "  <thead>\n",
       "    <tr style=\"text-align: right;\">\n",
       "      <th></th>\n",
       "      <th>age</th>\n",
       "      <th>bmi</th>\n",
       "      <th>children</th>\n",
       "      <th>smoker</th>\n",
       "      <th>region</th>\n",
       "      <th>charges</th>\n",
       "    </tr>\n",
       "  </thead>\n",
       "  <tbody>\n",
       "    <tr>\n",
       "      <th>0</th>\n",
       "      <td>19</td>\n",
       "      <td>27.9</td>\n",
       "      <td>0</td>\n",
       "      <td>1</td>\n",
       "      <td>1</td>\n",
       "      <td>16884.924</td>\n",
       "    </tr>\n",
       "  </tbody>\n",
       "</table>\n",
       "</div>"
      ],
      "text/plain": [
       "   age   bmi  children  smoker  region    charges\n",
       "0   19  27.9         0       1       1  16884.924"
      ]
     },
     "execution_count": 106,
     "metadata": {},
     "output_type": "execute_result"
    }
   ],
   "source": [
    "df1.head(1)"
   ]
  },
  {
   "cell_type": "code",
   "execution_count": 107,
   "id": "e7015f8c-f770-43da-829d-48f96368f4d8",
   "metadata": {},
   "outputs": [],
   "source": [
    "from statsmodels.stats.outliers_influence import variance_inflation_factor\n",
    "from statsmodels.tools.tools import add_constant\n",
    "def VIF(x_data):\n",
    "    data_with_constant = add_constant(x_data)\n",
    "    get_vif = pd.DataFrame()\n",
    "    get_vif['Variables'] = data_with_constant.columns\n",
    "    get_vif[\"Vif_Values\"] = [variance_inflation_factor (data_with_constant.values,i) for i in range(data_with_constant.shape[1])]\n",
    "    print(\"VIF Values are: \")\n",
    "    return get_vif"
   ]
  },
  {
   "cell_type": "code",
   "execution_count": 108,
   "id": "4c9147fc-82ad-4956-a0ee-0a2da0de558a",
   "metadata": {},
   "outputs": [
    {
     "name": "stdout",
     "output_type": "stream",
     "text": [
      "VIF Values are: \n"
     ]
    },
    {
     "data": {
      "text/html": [
       "<div>\n",
       "<style scoped>\n",
       "    .dataframe tbody tr th:only-of-type {\n",
       "        vertical-align: middle;\n",
       "    }\n",
       "\n",
       "    .dataframe tbody tr th {\n",
       "        vertical-align: top;\n",
       "    }\n",
       "\n",
       "    .dataframe thead th {\n",
       "        text-align: right;\n",
       "    }\n",
       "</style>\n",
       "<table border=\"1\" class=\"dataframe\">\n",
       "  <thead>\n",
       "    <tr style=\"text-align: right;\">\n",
       "      <th></th>\n",
       "      <th>Variables</th>\n",
       "      <th>Vif_Values</th>\n",
       "    </tr>\n",
       "  </thead>\n",
       "  <tbody>\n",
       "    <tr>\n",
       "      <th>0</th>\n",
       "      <td>const</td>\n",
       "      <td>46.414930</td>\n",
       "    </tr>\n",
       "    <tr>\n",
       "      <th>1</th>\n",
       "      <td>age</td>\n",
       "      <td>1.372516</td>\n",
       "    </tr>\n",
       "    <tr>\n",
       "      <th>2</th>\n",
       "      <td>bmi</td>\n",
       "      <td>1.150322</td>\n",
       "    </tr>\n",
       "    <tr>\n",
       "      <th>3</th>\n",
       "      <td>children</td>\n",
       "      <td>1.011287</td>\n",
       "    </tr>\n",
       "    <tr>\n",
       "      <th>4</th>\n",
       "      <td>smoker</td>\n",
       "      <td>3.527499</td>\n",
       "    </tr>\n",
       "    <tr>\n",
       "      <th>5</th>\n",
       "      <td>region</td>\n",
       "      <td>1.030128</td>\n",
       "    </tr>\n",
       "    <tr>\n",
       "      <th>6</th>\n",
       "      <td>charges</td>\n",
       "      <td>4.011362</td>\n",
       "    </tr>\n",
       "  </tbody>\n",
       "</table>\n",
       "</div>"
      ],
      "text/plain": [
       "  Variables  Vif_Values\n",
       "0     const   46.414930\n",
       "1       age    1.372516\n",
       "2       bmi    1.150322\n",
       "3  children    1.011287\n",
       "4    smoker    3.527499\n",
       "5    region    1.030128\n",
       "6   charges    4.011362"
      ]
     },
     "execution_count": 108,
     "metadata": {},
     "output_type": "execute_result"
    }
   ],
   "source": [
    "VIF(df1)"
   ]
  },
  {
   "cell_type": "code",
   "execution_count": null,
   "id": "c1f4e80e-9f7c-4fc8-9a73-5c8c24a8ad75",
   "metadata": {},
   "outputs": [],
   "source": []
  },
  {
   "cell_type": "markdown",
   "id": "e2c6f496-fbe0-4fb4-846b-ab396eab255d",
   "metadata": {},
   "source": [
    "# **`6. Model Training`**"
   ]
  },
  {
   "cell_type": "code",
   "execution_count": 109,
   "id": "45a40b83-9eff-47ca-8b04-a6650fe5bccb",
   "metadata": {},
   "outputs": [],
   "source": [
    "from sklearn.linear_model import LinearRegression\n",
    "from sklearn.model_selection import train_test_split"
   ]
  },
  {
   "cell_type": "code",
   "execution_count": 110,
   "id": "44e5ecf5-2852-4def-af5e-b41391ab3997",
   "metadata": {},
   "outputs": [],
   "source": [
    "x = df1.drop('charges',axis=1)\n",
    "y = df1['charges']"
   ]
  },
  {
   "cell_type": "code",
   "execution_count": 111,
   "id": "08f05f60-00e3-4aca-a86a-402805d43636",
   "metadata": {},
   "outputs": [],
   "source": [
    "x_train,x_test,y_train,y_test = train_test_split(x,y,test_size = 0.2,random_state = 42)"
   ]
  },
  {
   "cell_type": "raw",
   "id": "caaf44a1-4135-40d3-89e7-c3ae62ada213",
   "metadata": {},
   "source": [
    "## Model Training process >>"
   ]
  },
  {
   "cell_type": "code",
   "execution_count": 112,
   "id": "c9ffc7f5-adf2-4f46-a822-2aea1118a376",
   "metadata": {},
   "outputs": [
    {
     "data": {
      "text/html": [
       "<style>#sk-container-id-2 {\n",
       "  /* Definition of color scheme common for light and dark mode */\n",
       "  --sklearn-color-text: black;\n",
       "  --sklearn-color-line: gray;\n",
       "  /* Definition of color scheme for unfitted estimators */\n",
       "  --sklearn-color-unfitted-level-0: #fff5e6;\n",
       "  --sklearn-color-unfitted-level-1: #f6e4d2;\n",
       "  --sklearn-color-unfitted-level-2: #ffe0b3;\n",
       "  --sklearn-color-unfitted-level-3: chocolate;\n",
       "  /* Definition of color scheme for fitted estimators */\n",
       "  --sklearn-color-fitted-level-0: #f0f8ff;\n",
       "  --sklearn-color-fitted-level-1: #d4ebff;\n",
       "  --sklearn-color-fitted-level-2: #b3dbfd;\n",
       "  --sklearn-color-fitted-level-3: cornflowerblue;\n",
       "\n",
       "  /* Specific color for light theme */\n",
       "  --sklearn-color-text-on-default-background: var(--sg-text-color, var(--theme-code-foreground, var(--jp-content-font-color1, black)));\n",
       "  --sklearn-color-background: var(--sg-background-color, var(--theme-background, var(--jp-layout-color0, white)));\n",
       "  --sklearn-color-border-box: var(--sg-text-color, var(--theme-code-foreground, var(--jp-content-font-color1, black)));\n",
       "  --sklearn-color-icon: #696969;\n",
       "\n",
       "  @media (prefers-color-scheme: dark) {\n",
       "    /* Redefinition of color scheme for dark theme */\n",
       "    --sklearn-color-text-on-default-background: var(--sg-text-color, var(--theme-code-foreground, var(--jp-content-font-color1, white)));\n",
       "    --sklearn-color-background: var(--sg-background-color, var(--theme-background, var(--jp-layout-color0, #111)));\n",
       "    --sklearn-color-border-box: var(--sg-text-color, var(--theme-code-foreground, var(--jp-content-font-color1, white)));\n",
       "    --sklearn-color-icon: #878787;\n",
       "  }\n",
       "}\n",
       "\n",
       "#sk-container-id-2 {\n",
       "  color: var(--sklearn-color-text);\n",
       "}\n",
       "\n",
       "#sk-container-id-2 pre {\n",
       "  padding: 0;\n",
       "}\n",
       "\n",
       "#sk-container-id-2 input.sk-hidden--visually {\n",
       "  border: 0;\n",
       "  clip: rect(1px 1px 1px 1px);\n",
       "  clip: rect(1px, 1px, 1px, 1px);\n",
       "  height: 1px;\n",
       "  margin: -1px;\n",
       "  overflow: hidden;\n",
       "  padding: 0;\n",
       "  position: absolute;\n",
       "  width: 1px;\n",
       "}\n",
       "\n",
       "#sk-container-id-2 div.sk-dashed-wrapped {\n",
       "  border: 1px dashed var(--sklearn-color-line);\n",
       "  margin: 0 0.4em 0.5em 0.4em;\n",
       "  box-sizing: border-box;\n",
       "  padding-bottom: 0.4em;\n",
       "  background-color: var(--sklearn-color-background);\n",
       "}\n",
       "\n",
       "#sk-container-id-2 div.sk-container {\n",
       "  /* jupyter's `normalize.less` sets `[hidden] { display: none; }`\n",
       "     but bootstrap.min.css set `[hidden] { display: none !important; }`\n",
       "     so we also need the `!important` here to be able to override the\n",
       "     default hidden behavior on the sphinx rendered scikit-learn.org.\n",
       "     See: https://github.com/scikit-learn/scikit-learn/issues/21755 */\n",
       "  display: inline-block !important;\n",
       "  position: relative;\n",
       "}\n",
       "\n",
       "#sk-container-id-2 div.sk-text-repr-fallback {\n",
       "  display: none;\n",
       "}\n",
       "\n",
       "div.sk-parallel-item,\n",
       "div.sk-serial,\n",
       "div.sk-item {\n",
       "  /* draw centered vertical line to link estimators */\n",
       "  background-image: linear-gradient(var(--sklearn-color-text-on-default-background), var(--sklearn-color-text-on-default-background));\n",
       "  background-size: 2px 100%;\n",
       "  background-repeat: no-repeat;\n",
       "  background-position: center center;\n",
       "}\n",
       "\n",
       "/* Parallel-specific style estimator block */\n",
       "\n",
       "#sk-container-id-2 div.sk-parallel-item::after {\n",
       "  content: \"\";\n",
       "  width: 100%;\n",
       "  border-bottom: 2px solid var(--sklearn-color-text-on-default-background);\n",
       "  flex-grow: 1;\n",
       "}\n",
       "\n",
       "#sk-container-id-2 div.sk-parallel {\n",
       "  display: flex;\n",
       "  align-items: stretch;\n",
       "  justify-content: center;\n",
       "  background-color: var(--sklearn-color-background);\n",
       "  position: relative;\n",
       "}\n",
       "\n",
       "#sk-container-id-2 div.sk-parallel-item {\n",
       "  display: flex;\n",
       "  flex-direction: column;\n",
       "}\n",
       "\n",
       "#sk-container-id-2 div.sk-parallel-item:first-child::after {\n",
       "  align-self: flex-end;\n",
       "  width: 50%;\n",
       "}\n",
       "\n",
       "#sk-container-id-2 div.sk-parallel-item:last-child::after {\n",
       "  align-self: flex-start;\n",
       "  width: 50%;\n",
       "}\n",
       "\n",
       "#sk-container-id-2 div.sk-parallel-item:only-child::after {\n",
       "  width: 0;\n",
       "}\n",
       "\n",
       "/* Serial-specific style estimator block */\n",
       "\n",
       "#sk-container-id-2 div.sk-serial {\n",
       "  display: flex;\n",
       "  flex-direction: column;\n",
       "  align-items: center;\n",
       "  background-color: var(--sklearn-color-background);\n",
       "  padding-right: 1em;\n",
       "  padding-left: 1em;\n",
       "}\n",
       "\n",
       "\n",
       "/* Toggleable style: style used for estimator/Pipeline/ColumnTransformer box that is\n",
       "clickable and can be expanded/collapsed.\n",
       "- Pipeline and ColumnTransformer use this feature and define the default style\n",
       "- Estimators will overwrite some part of the style using the `sk-estimator` class\n",
       "*/\n",
       "\n",
       "/* Pipeline and ColumnTransformer style (default) */\n",
       "\n",
       "#sk-container-id-2 div.sk-toggleable {\n",
       "  /* Default theme specific background. It is overwritten whether we have a\n",
       "  specific estimator or a Pipeline/ColumnTransformer */\n",
       "  background-color: var(--sklearn-color-background);\n",
       "}\n",
       "\n",
       "/* Toggleable label */\n",
       "#sk-container-id-2 label.sk-toggleable__label {\n",
       "  cursor: pointer;\n",
       "  display: block;\n",
       "  width: 100%;\n",
       "  margin-bottom: 0;\n",
       "  padding: 0.5em;\n",
       "  box-sizing: border-box;\n",
       "  text-align: center;\n",
       "}\n",
       "\n",
       "#sk-container-id-2 label.sk-toggleable__label-arrow:before {\n",
       "  /* Arrow on the left of the label */\n",
       "  content: \"▸\";\n",
       "  float: left;\n",
       "  margin-right: 0.25em;\n",
       "  color: var(--sklearn-color-icon);\n",
       "}\n",
       "\n",
       "#sk-container-id-2 label.sk-toggleable__label-arrow:hover:before {\n",
       "  color: var(--sklearn-color-text);\n",
       "}\n",
       "\n",
       "/* Toggleable content - dropdown */\n",
       "\n",
       "#sk-container-id-2 div.sk-toggleable__content {\n",
       "  max-height: 0;\n",
       "  max-width: 0;\n",
       "  overflow: hidden;\n",
       "  text-align: left;\n",
       "  /* unfitted */\n",
       "  background-color: var(--sklearn-color-unfitted-level-0);\n",
       "}\n",
       "\n",
       "#sk-container-id-2 div.sk-toggleable__content.fitted {\n",
       "  /* fitted */\n",
       "  background-color: var(--sklearn-color-fitted-level-0);\n",
       "}\n",
       "\n",
       "#sk-container-id-2 div.sk-toggleable__content pre {\n",
       "  margin: 0.2em;\n",
       "  border-radius: 0.25em;\n",
       "  color: var(--sklearn-color-text);\n",
       "  /* unfitted */\n",
       "  background-color: var(--sklearn-color-unfitted-level-0);\n",
       "}\n",
       "\n",
       "#sk-container-id-2 div.sk-toggleable__content.fitted pre {\n",
       "  /* unfitted */\n",
       "  background-color: var(--sklearn-color-fitted-level-0);\n",
       "}\n",
       "\n",
       "#sk-container-id-2 input.sk-toggleable__control:checked~div.sk-toggleable__content {\n",
       "  /* Expand drop-down */\n",
       "  max-height: 200px;\n",
       "  max-width: 100%;\n",
       "  overflow: auto;\n",
       "}\n",
       "\n",
       "#sk-container-id-2 input.sk-toggleable__control:checked~label.sk-toggleable__label-arrow:before {\n",
       "  content: \"▾\";\n",
       "}\n",
       "\n",
       "/* Pipeline/ColumnTransformer-specific style */\n",
       "\n",
       "#sk-container-id-2 div.sk-label input.sk-toggleable__control:checked~label.sk-toggleable__label {\n",
       "  color: var(--sklearn-color-text);\n",
       "  background-color: var(--sklearn-color-unfitted-level-2);\n",
       "}\n",
       "\n",
       "#sk-container-id-2 div.sk-label.fitted input.sk-toggleable__control:checked~label.sk-toggleable__label {\n",
       "  background-color: var(--sklearn-color-fitted-level-2);\n",
       "}\n",
       "\n",
       "/* Estimator-specific style */\n",
       "\n",
       "/* Colorize estimator box */\n",
       "#sk-container-id-2 div.sk-estimator input.sk-toggleable__control:checked~label.sk-toggleable__label {\n",
       "  /* unfitted */\n",
       "  background-color: var(--sklearn-color-unfitted-level-2);\n",
       "}\n",
       "\n",
       "#sk-container-id-2 div.sk-estimator.fitted input.sk-toggleable__control:checked~label.sk-toggleable__label {\n",
       "  /* fitted */\n",
       "  background-color: var(--sklearn-color-fitted-level-2);\n",
       "}\n",
       "\n",
       "#sk-container-id-2 div.sk-label label.sk-toggleable__label,\n",
       "#sk-container-id-2 div.sk-label label {\n",
       "  /* The background is the default theme color */\n",
       "  color: var(--sklearn-color-text-on-default-background);\n",
       "}\n",
       "\n",
       "/* On hover, darken the color of the background */\n",
       "#sk-container-id-2 div.sk-label:hover label.sk-toggleable__label {\n",
       "  color: var(--sklearn-color-text);\n",
       "  background-color: var(--sklearn-color-unfitted-level-2);\n",
       "}\n",
       "\n",
       "/* Label box, darken color on hover, fitted */\n",
       "#sk-container-id-2 div.sk-label.fitted:hover label.sk-toggleable__label.fitted {\n",
       "  color: var(--sklearn-color-text);\n",
       "  background-color: var(--sklearn-color-fitted-level-2);\n",
       "}\n",
       "\n",
       "/* Estimator label */\n",
       "\n",
       "#sk-container-id-2 div.sk-label label {\n",
       "  font-family: monospace;\n",
       "  font-weight: bold;\n",
       "  display: inline-block;\n",
       "  line-height: 1.2em;\n",
       "}\n",
       "\n",
       "#sk-container-id-2 div.sk-label-container {\n",
       "  text-align: center;\n",
       "}\n",
       "\n",
       "/* Estimator-specific */\n",
       "#sk-container-id-2 div.sk-estimator {\n",
       "  font-family: monospace;\n",
       "  border: 1px dotted var(--sklearn-color-border-box);\n",
       "  border-radius: 0.25em;\n",
       "  box-sizing: border-box;\n",
       "  margin-bottom: 0.5em;\n",
       "  /* unfitted */\n",
       "  background-color: var(--sklearn-color-unfitted-level-0);\n",
       "}\n",
       "\n",
       "#sk-container-id-2 div.sk-estimator.fitted {\n",
       "  /* fitted */\n",
       "  background-color: var(--sklearn-color-fitted-level-0);\n",
       "}\n",
       "\n",
       "/* on hover */\n",
       "#sk-container-id-2 div.sk-estimator:hover {\n",
       "  /* unfitted */\n",
       "  background-color: var(--sklearn-color-unfitted-level-2);\n",
       "}\n",
       "\n",
       "#sk-container-id-2 div.sk-estimator.fitted:hover {\n",
       "  /* fitted */\n",
       "  background-color: var(--sklearn-color-fitted-level-2);\n",
       "}\n",
       "\n",
       "/* Specification for estimator info (e.g. \"i\" and \"?\") */\n",
       "\n",
       "/* Common style for \"i\" and \"?\" */\n",
       "\n",
       ".sk-estimator-doc-link,\n",
       "a:link.sk-estimator-doc-link,\n",
       "a:visited.sk-estimator-doc-link {\n",
       "  float: right;\n",
       "  font-size: smaller;\n",
       "  line-height: 1em;\n",
       "  font-family: monospace;\n",
       "  background-color: var(--sklearn-color-background);\n",
       "  border-radius: 1em;\n",
       "  height: 1em;\n",
       "  width: 1em;\n",
       "  text-decoration: none !important;\n",
       "  margin-left: 1ex;\n",
       "  /* unfitted */\n",
       "  border: var(--sklearn-color-unfitted-level-1) 1pt solid;\n",
       "  color: var(--sklearn-color-unfitted-level-1);\n",
       "}\n",
       "\n",
       ".sk-estimator-doc-link.fitted,\n",
       "a:link.sk-estimator-doc-link.fitted,\n",
       "a:visited.sk-estimator-doc-link.fitted {\n",
       "  /* fitted */\n",
       "  border: var(--sklearn-color-fitted-level-1) 1pt solid;\n",
       "  color: var(--sklearn-color-fitted-level-1);\n",
       "}\n",
       "\n",
       "/* On hover */\n",
       "div.sk-estimator:hover .sk-estimator-doc-link:hover,\n",
       ".sk-estimator-doc-link:hover,\n",
       "div.sk-label-container:hover .sk-estimator-doc-link:hover,\n",
       ".sk-estimator-doc-link:hover {\n",
       "  /* unfitted */\n",
       "  background-color: var(--sklearn-color-unfitted-level-3);\n",
       "  color: var(--sklearn-color-background);\n",
       "  text-decoration: none;\n",
       "}\n",
       "\n",
       "div.sk-estimator.fitted:hover .sk-estimator-doc-link.fitted:hover,\n",
       ".sk-estimator-doc-link.fitted:hover,\n",
       "div.sk-label-container:hover .sk-estimator-doc-link.fitted:hover,\n",
       ".sk-estimator-doc-link.fitted:hover {\n",
       "  /* fitted */\n",
       "  background-color: var(--sklearn-color-fitted-level-3);\n",
       "  color: var(--sklearn-color-background);\n",
       "  text-decoration: none;\n",
       "}\n",
       "\n",
       "/* Span, style for the box shown on hovering the info icon */\n",
       ".sk-estimator-doc-link span {\n",
       "  display: none;\n",
       "  z-index: 9999;\n",
       "  position: relative;\n",
       "  font-weight: normal;\n",
       "  right: .2ex;\n",
       "  padding: .5ex;\n",
       "  margin: .5ex;\n",
       "  width: min-content;\n",
       "  min-width: 20ex;\n",
       "  max-width: 50ex;\n",
       "  color: var(--sklearn-color-text);\n",
       "  box-shadow: 2pt 2pt 4pt #999;\n",
       "  /* unfitted */\n",
       "  background: var(--sklearn-color-unfitted-level-0);\n",
       "  border: .5pt solid var(--sklearn-color-unfitted-level-3);\n",
       "}\n",
       "\n",
       ".sk-estimator-doc-link.fitted span {\n",
       "  /* fitted */\n",
       "  background: var(--sklearn-color-fitted-level-0);\n",
       "  border: var(--sklearn-color-fitted-level-3);\n",
       "}\n",
       "\n",
       ".sk-estimator-doc-link:hover span {\n",
       "  display: block;\n",
       "}\n",
       "\n",
       "/* \"?\"-specific style due to the `<a>` HTML tag */\n",
       "\n",
       "#sk-container-id-2 a.estimator_doc_link {\n",
       "  float: right;\n",
       "  font-size: 1rem;\n",
       "  line-height: 1em;\n",
       "  font-family: monospace;\n",
       "  background-color: var(--sklearn-color-background);\n",
       "  border-radius: 1rem;\n",
       "  height: 1rem;\n",
       "  width: 1rem;\n",
       "  text-decoration: none;\n",
       "  /* unfitted */\n",
       "  color: var(--sklearn-color-unfitted-level-1);\n",
       "  border: var(--sklearn-color-unfitted-level-1) 1pt solid;\n",
       "}\n",
       "\n",
       "#sk-container-id-2 a.estimator_doc_link.fitted {\n",
       "  /* fitted */\n",
       "  border: var(--sklearn-color-fitted-level-1) 1pt solid;\n",
       "  color: var(--sklearn-color-fitted-level-1);\n",
       "}\n",
       "\n",
       "/* On hover */\n",
       "#sk-container-id-2 a.estimator_doc_link:hover {\n",
       "  /* unfitted */\n",
       "  background-color: var(--sklearn-color-unfitted-level-3);\n",
       "  color: var(--sklearn-color-background);\n",
       "  text-decoration: none;\n",
       "}\n",
       "\n",
       "#sk-container-id-2 a.estimator_doc_link.fitted:hover {\n",
       "  /* fitted */\n",
       "  background-color: var(--sklearn-color-fitted-level-3);\n",
       "}\n",
       "</style><div id=\"sk-container-id-2\" class=\"sk-top-container\"><div class=\"sk-text-repr-fallback\"><pre>LinearRegression()</pre><b>In a Jupyter environment, please rerun this cell to show the HTML representation or trust the notebook. <br />On GitHub, the HTML representation is unable to render, please try loading this page with nbviewer.org.</b></div><div class=\"sk-container\" hidden><div class=\"sk-item\"><div class=\"sk-estimator fitted sk-toggleable\"><input class=\"sk-toggleable__control sk-hidden--visually\" id=\"sk-estimator-id-2\" type=\"checkbox\" checked><label for=\"sk-estimator-id-2\" class=\"sk-toggleable__label fitted sk-toggleable__label-arrow fitted\">&nbsp;&nbsp;LinearRegression<a class=\"sk-estimator-doc-link fitted\" rel=\"noreferrer\" target=\"_blank\" href=\"https://scikit-learn.org/1.5/modules/generated/sklearn.linear_model.LinearRegression.html\">?<span>Documentation for LinearRegression</span></a><span class=\"sk-estimator-doc-link fitted\">i<span>Fitted</span></span></label><div class=\"sk-toggleable__content fitted\"><pre>LinearRegression()</pre></div> </div></div></div></div>"
      ],
      "text/plain": [
       "LinearRegression()"
      ]
     },
     "execution_count": 112,
     "metadata": {},
     "output_type": "execute_result"
    }
   ],
   "source": [
    "lr_model = LinearRegression()  #this will intialise empty Model\n",
    "lr_model.fit(x_train,y_train)  #fit trainning data of x&y"
   ]
  },
  {
   "cell_type": "markdown",
   "id": "0399faa4-ac3a-4192-a46c-97527309978c",
   "metadata": {},
   "source": [
    "- For example, predicting a house's price might depend on features like the number of bedrooms, square footage, location, and age of the property. Similarly, in health, predicting insurance costs might depend on age, BMI, smoking status, etc."
   ]
  },
  {
   "cell_type": "markdown",
   "id": "2bbace61-f8d3-4e14-9197-c814abbcbe47",
   "metadata": {},
   "source": [
    "# **`7. Model Evaluation`**"
   ]
  },
  {
   "cell_type": "code",
   "execution_count": 113,
   "id": "d6f488a4-5f2a-4ab8-9d9d-b4807842955a",
   "metadata": {},
   "outputs": [],
   "source": [
    "from sklearn.metrics import mean_squared_error,mean_absolute_error,r2_score"
   ]
  },
  {
   "cell_type": "markdown",
   "id": "c80fcba4-77b3-4970-99e3-de9ac55944b5",
   "metadata": {},
   "source": [
    "### On testing Data"
   ]
  },
  {
   "cell_type": "raw",
   "id": "caa632bd-e3e8-42b5-b4ad-8acd37c7adcb",
   "metadata": {},
   "source": [
    "### We have to find y_pred & MSE,RMSE,R2_score, Adjusted R2_score"
   ]
  },
  {
   "cell_type": "code",
   "execution_count": 114,
   "id": "c4069be4-ba58-44b7-90df-b60c8eb36bae",
   "metadata": {},
   "outputs": [
    {
     "data": {
      "text/plain": [
       "((1070, 5), (1070,))"
      ]
     },
     "execution_count": 114,
     "metadata": {},
     "output_type": "execute_result"
    }
   ],
   "source": [
    "x_train.shape,y_train.shape"
   ]
  },
  {
   "cell_type": "code",
   "execution_count": 115,
   "id": "25757690-74f9-42c7-b560-c7beb1e940d8",
   "metadata": {},
   "outputs": [
    {
     "data": {
      "text/plain": [
       "((268, 5), (268,))"
      ]
     },
     "execution_count": 115,
     "metadata": {},
     "output_type": "execute_result"
    }
   ],
   "source": [
    "x_test.shape,y_test.shape"
   ]
  },
  {
   "cell_type": "code",
   "execution_count": 116,
   "id": "b37f7edd-05d0-40c2-ad41-5e9c3e7ab28f",
   "metadata": {},
   "outputs": [
    {
     "name": "stdout",
     "output_type": "stream",
     "text": [
      "Mean Squared Error is= 33640657.13645164\n",
      "Root Mean Square Error is=  5800.056649417455\n",
      "R2_score is=  0.7833112270019789\n",
      "Adjusted R2 score  0.7791759450745357\n"
     ]
    }
   ],
   "source": [
    "y_pred = lr_model.predict(x_test)  # y_test is our Actual values so give x_test\n",
    "\n",
    "MSE = mean_squared_error(y_test,y_pred)  #y_test is Actual Value & y_pred is predicted value.....error\n",
    "print(\"Mean Squared Error is=\", MSE)\n",
    "\n",
    "#rmse tranform error back to original Unit as per Target Column(Observe Target column in Thousand range so converts as per Target column Range )\n",
    "rmse = np.sqrt(MSE)\n",
    "print(\"Root Mean Square Error is= \",rmse)\n",
    "\n",
    "R2_SCORE = r2_score(y_test,y_pred)\n",
    "print(\"R2_score is= \",R2_SCORE)  ## R2_SCORE Coefficient of Determination (R2_SCORE range is 0 to 1)\n",
    "\n",
    "                                                            ### N =testning rows..x_test.shape[0] & P=x-test columns\n",
    "Adjusted_R2_score = 1- (((1-R2_SCORE)*(x_test.shape[0] - 1)) / (x_test.shape[0] - x_test.shape[1] - 1))\n",
    "print(\"Adjusted R2 score \",Adjusted_R2_score)\n",
    "### Adjusted_R2_score formula= 1- (((1-R2)*(N-1)) / (N-P-1))"
   ]
  },
  {
   "cell_type": "raw",
   "id": "e92f3e67-255a-4f27-a203-27720ac73ec6",
   "metadata": {},
   "source": [
    "## Above are new result Without Transforming Outliers..."
   ]
  },
  {
   "cell_type": "raw",
   "id": "557bdd56-f4bf-4123-bd47-401831bded12",
   "metadata": {},
   "source": [
    "# old rsults after Transforming Charges(139 Outliers..)to Median.....:-\n",
    "Mean Squared Error is= 28498676.049976826\n",
    "Root Mean Square Error is=  5338.4151252948495\n",
    "R2_score is=  0.3405512666819799\n",
    "Adjusted R2 score  0.327966367191178"
   ]
  },
  {
   "cell_type": "markdown",
   "id": "76c7214b-c7ec-4425-ab88-7923deb20076",
   "metadata": {},
   "source": [
    "### R² Score Ranges\n",
    "- 0.0 to 0.2: The model has poor performance, explaining very little of the variance in the target variable.\n",
    "- 0.2 to 0.4: The model shows fair performance, capturing some variance but with considerable room for improvement.\n",
    "- 0.4 to 0.6: The model demonstrates moderate performance, explaining a decent amount of variance in the target variable.\n",
    "- 0.6 to 0.8: The model exhibits good performance, explaining a significant portion of the variance effectively.\n",
    "- 0.8 to 1.0: The model achieves excellent performance, explaining most of the variance in the target variable.\n",
    "\n",
    "### Adjusted R² Score Ranges\n",
    "- Low Adjusted R² (< 0.3): The model has poor explanatory power, potentially due to unnecessary predictors or missing relevantfeatures.\n",
    "- Moderate Adjusted R² (0.3 to 0.6): The model captures some variance but may benefit from improved feature selection or engineering.\n",
    "- High Adjusted R² (0.6 to 0.9): The model is well-performing, explaining a significant amount of variance while accounting for the number of predictors.\n",
    "- Very High Adjusted R² (> 0.9): The model is well-fitted, but caution is needed to ensure it generalizes well and isn’t overfitting."
   ]
  },
  {
   "cell_type": "code",
   "execution_count": null,
   "id": "cf98a66f-d877-445a-a9b5-27a27c575da3",
   "metadata": {},
   "outputs": [],
   "source": []
  },
  {
   "cell_type": "markdown",
   "id": "4c407a51-630a-4bd3-9a38-dc4c49c59ed1",
   "metadata": {},
   "source": [
    "### Take input from user..>>>>>>>>.for (age,bmi,children,smoker,region)"
   ]
  },
  {
   "cell_type": "code",
   "execution_count": 117,
   "id": "27ab234e-4703-4b60-9216-b5d7591becf7",
   "metadata": {},
   "outputs": [
    {
     "name": "stdin",
     "output_type": "stream",
     "text": [
      "Enter age:  40\n",
      "Enter BMI:  19\n",
      "Enter number of children you have:  2\n",
      "Are you a smoker [yes/no]:  no\n",
      "Enter region [southeast/southwest/northwest/northeast]:  southeast\n"
     ]
    },
    {
     "data": {
      "text/plain": [
       "'Your insurance charges are: 4743.004927881126'"
      ]
     },
     "execution_count": 117,
     "metadata": {},
     "output_type": "execute_result"
    }
   ],
   "source": [
    "age = int(input(\"Enter age: \"))\n",
    "bmi = float(input('Enter BMI: '))\n",
    "children = int(input(\"Enter number of children you have: \"))\n",
    "smoker = int(input(\"Are you a smoker [yes/no]: \").strip().lower().replace('yes', '1').replace('no', '0'))\n",
    "region = int(input(\"Enter region [southeast/southwest/northwest/northeast]: \").strip().lower().replace(\"southeast\", \"1\").replace(\"southwest\", \"2\").replace(\"northwest\", \"3\").replace(\"northeast\", \"4\"))\n",
    "\n",
    "\n",
    "# Function to get charges based on user input\n",
    "def get_charges(age, bmi, children, smoker, region):\n",
    "    # Create DataFrame with user input\n",
    "    df_ = pd.DataFrame({'age': [age],\n",
    "                        'bmi': [bmi],\n",
    "                        'children': [children],\n",
    "                        'smoker': [smoker],\n",
    "                        'region': [region]})\n",
    "    \n",
    "\n",
    "    return f\"Your insurance charges are: {lr_model.predict(df_)[0]}\" ##its in list =[5155.49455906251] so we use list[0]=5155.49455906251\n",
    "get_charges(age, bmi, children, smoker, region)"
   ]
  },
  {
   "cell_type": "code",
   "execution_count": null,
   "id": "f74bd0bc-2886-45a9-a77e-427c9e00f590",
   "metadata": {},
   "outputs": [],
   "source": []
  },
  {
   "cell_type": "markdown",
   "id": "c59856d4-98aa-4277-81e9-d9f2c0f39329",
   "metadata": {},
   "source": [
    "# **Model- Save in PICKLE, JSON For testing**------------------------>>>>>>>>>>>>>>>>>>>>>>>>>>>>>>>>>"
   ]
  },
  {
   "cell_type": "code",
   "execution_count": 129,
   "id": "239dc3fd-4c8c-4209-b6de-006e0739e4a2",
   "metadata": {},
   "outputs": [],
   "source": [
    "import pickle\n",
    "import json"
   ]
  },
  {
   "cell_type": "code",
   "execution_count": 120,
   "id": "ff8e5157-5e1f-4e03-ab61-62521ad1ab57",
   "metadata": {},
   "outputs": [],
   "source": [
    "with open('Healthcare(env)_myproject.pkl',\"wb\") as file:   #\"wb\": mean write bytes..encoded as 0,1\n",
    "    pickle.dump(lr_model,file)             #lr-Model as our Linear Regression Model so save in it"
   ]
  },
  {
   "cell_type": "code",
   "execution_count": 126,
   "id": "ca595b19-fcfc-4321-a340-90d001832d51",
   "metadata": {},
   "outputs": [],
   "source": [
    "Healthcare_json = {\"smoker\":{\"yes\":1,\"no\":0},   #key & dict value pair\n",
    "                        \"region\":{'southeast': 1, 'southwest': 2, 'northwest': 3, 'northeast': 4},\n",
    "                        \"columns\":list(x.columns)}"
   ]
  },
  {
   "cell_type": "code",
   "execution_count": 127,
   "id": "783193d5-ab01-4dd8-b7f3-8341a4ad8cdb",
   "metadata": {},
   "outputs": [
    {
     "data": {
      "text/html": [
       "<div>\n",
       "<style scoped>\n",
       "    .dataframe tbody tr th:only-of-type {\n",
       "        vertical-align: middle;\n",
       "    }\n",
       "\n",
       "    .dataframe tbody tr th {\n",
       "        vertical-align: top;\n",
       "    }\n",
       "\n",
       "    .dataframe thead th {\n",
       "        text-align: right;\n",
       "    }\n",
       "</style>\n",
       "<table border=\"1\" class=\"dataframe\">\n",
       "  <thead>\n",
       "    <tr style=\"text-align: right;\">\n",
       "      <th></th>\n",
       "      <th>age</th>\n",
       "      <th>bmi</th>\n",
       "      <th>children</th>\n",
       "      <th>smoker</th>\n",
       "      <th>region</th>\n",
       "    </tr>\n",
       "  </thead>\n",
       "  <tbody>\n",
       "    <tr>\n",
       "      <th>0</th>\n",
       "      <td>19</td>\n",
       "      <td>27.9</td>\n",
       "      <td>0</td>\n",
       "      <td>1</td>\n",
       "      <td>1</td>\n",
       "    </tr>\n",
       "  </tbody>\n",
       "</table>\n",
       "</div>"
      ],
      "text/plain": [
       "   age   bmi  children  smoker  region\n",
       "0   19  27.9         0       1       1"
      ]
     },
     "execution_count": 127,
     "metadata": {},
     "output_type": "execute_result"
    }
   ],
   "source": [
    "x.head(1) #✔️"
   ]
  },
  {
   "cell_type": "markdown",
   "id": "61f2a2bf-3946-415d-90d7-d4d73650f382",
   "metadata": {},
   "source": [
    "## Save JSON file"
   ]
  },
  {
   "cell_type": "code",
   "execution_count": 130,
   "id": "cffa722e-8ee5-466c-9bf2-6ff938e4fe67",
   "metadata": {},
   "outputs": [],
   "source": [
    "with open(\"Healthcare(env)_json.json\",'w') as file:\n",
    "    json.dump(Healthcare_json,file)"
   ]
  },
  {
   "cell_type": "markdown",
   "id": "e97003cb-0955-444f-bb17-ad8fddc59ce2",
   "metadata": {},
   "source": [
    "# **TESTING ON USER INPUTS FOR LINEAR MODEL** ...........---->"
   ]
  },
  {
   "cell_type": "markdown",
   "id": "1bb720c8-a44a-42fd-936f-fcac42c69ab7",
   "metadata": {},
   "source": [
    "# >>>>>>>>>>>>>>>>>>>>>>>>>>>>>>>>>>>>>>>>>>>>>>>>>>>>>>>>>>>>>>><<<<<<<<<<<<<<<<<<<<<<<<<<<<<<<<<<<<<<<<<<<<<<<<<<<<<<<<<<<<<<"
   ]
  },
  {
   "cell_type": "markdown",
   "id": "0e2438f5-ced7-48e6-82cc-cd05bf5291af",
   "metadata": {},
   "source": [
    "## ***Testing on user input***->"
   ]
  },
  {
   "cell_type": "code",
   "execution_count": 131,
   "id": "e7652fc3-86c9-4d67-ae2b-99071c807957",
   "metadata": {},
   "outputs": [],
   "source": [
    "import pickle\n",
    "import json\n",
    "import numpy as np\n",
    "import pandas as pd"
   ]
  },
  {
   "cell_type": "code",
   "execution_count": 132,
   "id": "ebb7889c-c1fc-47ae-a9ab-73f3d1e65b54",
   "metadata": {},
   "outputs": [
    {
     "data": {
      "text/plain": [
       "{'smoker': {'yes': 1, 'no': 0},\n",
       " 'region': {'southeast': 1, 'southwest': 2, 'northwest': 3, 'northeast': 4},\n",
       " 'columns': ['age', 'bmi', 'children', 'smoker', 'region']}"
      ]
     },
     "execution_count": 132,
     "metadata": {},
     "output_type": "execute_result"
    }
   ],
   "source": [
    "with open('Healthcare(env)_json.json','r') as file:\n",
    "    json_data = json.load(file)\n",
    "json_data"
   ]
  },
  {
   "cell_type": "code",
   "execution_count": 133,
   "id": "531a63f8-66c4-4696-a7f8-9d688d405391",
   "metadata": {},
   "outputs": [],
   "source": [
    "with open('Healthcare(env)_myproject.pkl',\"rb\") as file:\n",
    "    lr_model_test = pickle.load(file)"
   ]
  },
  {
   "cell_type": "code",
   "execution_count": 134,
   "id": "5abe4cc5-d7d0-4636-af55-27585d80d440",
   "metadata": {},
   "outputs": [
    {
     "data": {
      "text/html": [
       "<style>#sk-container-id-3 {\n",
       "  /* Definition of color scheme common for light and dark mode */\n",
       "  --sklearn-color-text: black;\n",
       "  --sklearn-color-line: gray;\n",
       "  /* Definition of color scheme for unfitted estimators */\n",
       "  --sklearn-color-unfitted-level-0: #fff5e6;\n",
       "  --sklearn-color-unfitted-level-1: #f6e4d2;\n",
       "  --sklearn-color-unfitted-level-2: #ffe0b3;\n",
       "  --sklearn-color-unfitted-level-3: chocolate;\n",
       "  /* Definition of color scheme for fitted estimators */\n",
       "  --sklearn-color-fitted-level-0: #f0f8ff;\n",
       "  --sklearn-color-fitted-level-1: #d4ebff;\n",
       "  --sklearn-color-fitted-level-2: #b3dbfd;\n",
       "  --sklearn-color-fitted-level-3: cornflowerblue;\n",
       "\n",
       "  /* Specific color for light theme */\n",
       "  --sklearn-color-text-on-default-background: var(--sg-text-color, var(--theme-code-foreground, var(--jp-content-font-color1, black)));\n",
       "  --sklearn-color-background: var(--sg-background-color, var(--theme-background, var(--jp-layout-color0, white)));\n",
       "  --sklearn-color-border-box: var(--sg-text-color, var(--theme-code-foreground, var(--jp-content-font-color1, black)));\n",
       "  --sklearn-color-icon: #696969;\n",
       "\n",
       "  @media (prefers-color-scheme: dark) {\n",
       "    /* Redefinition of color scheme for dark theme */\n",
       "    --sklearn-color-text-on-default-background: var(--sg-text-color, var(--theme-code-foreground, var(--jp-content-font-color1, white)));\n",
       "    --sklearn-color-background: var(--sg-background-color, var(--theme-background, var(--jp-layout-color0, #111)));\n",
       "    --sklearn-color-border-box: var(--sg-text-color, var(--theme-code-foreground, var(--jp-content-font-color1, white)));\n",
       "    --sklearn-color-icon: #878787;\n",
       "  }\n",
       "}\n",
       "\n",
       "#sk-container-id-3 {\n",
       "  color: var(--sklearn-color-text);\n",
       "}\n",
       "\n",
       "#sk-container-id-3 pre {\n",
       "  padding: 0;\n",
       "}\n",
       "\n",
       "#sk-container-id-3 input.sk-hidden--visually {\n",
       "  border: 0;\n",
       "  clip: rect(1px 1px 1px 1px);\n",
       "  clip: rect(1px, 1px, 1px, 1px);\n",
       "  height: 1px;\n",
       "  margin: -1px;\n",
       "  overflow: hidden;\n",
       "  padding: 0;\n",
       "  position: absolute;\n",
       "  width: 1px;\n",
       "}\n",
       "\n",
       "#sk-container-id-3 div.sk-dashed-wrapped {\n",
       "  border: 1px dashed var(--sklearn-color-line);\n",
       "  margin: 0 0.4em 0.5em 0.4em;\n",
       "  box-sizing: border-box;\n",
       "  padding-bottom: 0.4em;\n",
       "  background-color: var(--sklearn-color-background);\n",
       "}\n",
       "\n",
       "#sk-container-id-3 div.sk-container {\n",
       "  /* jupyter's `normalize.less` sets `[hidden] { display: none; }`\n",
       "     but bootstrap.min.css set `[hidden] { display: none !important; }`\n",
       "     so we also need the `!important` here to be able to override the\n",
       "     default hidden behavior on the sphinx rendered scikit-learn.org.\n",
       "     See: https://github.com/scikit-learn/scikit-learn/issues/21755 */\n",
       "  display: inline-block !important;\n",
       "  position: relative;\n",
       "}\n",
       "\n",
       "#sk-container-id-3 div.sk-text-repr-fallback {\n",
       "  display: none;\n",
       "}\n",
       "\n",
       "div.sk-parallel-item,\n",
       "div.sk-serial,\n",
       "div.sk-item {\n",
       "  /* draw centered vertical line to link estimators */\n",
       "  background-image: linear-gradient(var(--sklearn-color-text-on-default-background), var(--sklearn-color-text-on-default-background));\n",
       "  background-size: 2px 100%;\n",
       "  background-repeat: no-repeat;\n",
       "  background-position: center center;\n",
       "}\n",
       "\n",
       "/* Parallel-specific style estimator block */\n",
       "\n",
       "#sk-container-id-3 div.sk-parallel-item::after {\n",
       "  content: \"\";\n",
       "  width: 100%;\n",
       "  border-bottom: 2px solid var(--sklearn-color-text-on-default-background);\n",
       "  flex-grow: 1;\n",
       "}\n",
       "\n",
       "#sk-container-id-3 div.sk-parallel {\n",
       "  display: flex;\n",
       "  align-items: stretch;\n",
       "  justify-content: center;\n",
       "  background-color: var(--sklearn-color-background);\n",
       "  position: relative;\n",
       "}\n",
       "\n",
       "#sk-container-id-3 div.sk-parallel-item {\n",
       "  display: flex;\n",
       "  flex-direction: column;\n",
       "}\n",
       "\n",
       "#sk-container-id-3 div.sk-parallel-item:first-child::after {\n",
       "  align-self: flex-end;\n",
       "  width: 50%;\n",
       "}\n",
       "\n",
       "#sk-container-id-3 div.sk-parallel-item:last-child::after {\n",
       "  align-self: flex-start;\n",
       "  width: 50%;\n",
       "}\n",
       "\n",
       "#sk-container-id-3 div.sk-parallel-item:only-child::after {\n",
       "  width: 0;\n",
       "}\n",
       "\n",
       "/* Serial-specific style estimator block */\n",
       "\n",
       "#sk-container-id-3 div.sk-serial {\n",
       "  display: flex;\n",
       "  flex-direction: column;\n",
       "  align-items: center;\n",
       "  background-color: var(--sklearn-color-background);\n",
       "  padding-right: 1em;\n",
       "  padding-left: 1em;\n",
       "}\n",
       "\n",
       "\n",
       "/* Toggleable style: style used for estimator/Pipeline/ColumnTransformer box that is\n",
       "clickable and can be expanded/collapsed.\n",
       "- Pipeline and ColumnTransformer use this feature and define the default style\n",
       "- Estimators will overwrite some part of the style using the `sk-estimator` class\n",
       "*/\n",
       "\n",
       "/* Pipeline and ColumnTransformer style (default) */\n",
       "\n",
       "#sk-container-id-3 div.sk-toggleable {\n",
       "  /* Default theme specific background. It is overwritten whether we have a\n",
       "  specific estimator or a Pipeline/ColumnTransformer */\n",
       "  background-color: var(--sklearn-color-background);\n",
       "}\n",
       "\n",
       "/* Toggleable label */\n",
       "#sk-container-id-3 label.sk-toggleable__label {\n",
       "  cursor: pointer;\n",
       "  display: block;\n",
       "  width: 100%;\n",
       "  margin-bottom: 0;\n",
       "  padding: 0.5em;\n",
       "  box-sizing: border-box;\n",
       "  text-align: center;\n",
       "}\n",
       "\n",
       "#sk-container-id-3 label.sk-toggleable__label-arrow:before {\n",
       "  /* Arrow on the left of the label */\n",
       "  content: \"▸\";\n",
       "  float: left;\n",
       "  margin-right: 0.25em;\n",
       "  color: var(--sklearn-color-icon);\n",
       "}\n",
       "\n",
       "#sk-container-id-3 label.sk-toggleable__label-arrow:hover:before {\n",
       "  color: var(--sklearn-color-text);\n",
       "}\n",
       "\n",
       "/* Toggleable content - dropdown */\n",
       "\n",
       "#sk-container-id-3 div.sk-toggleable__content {\n",
       "  max-height: 0;\n",
       "  max-width: 0;\n",
       "  overflow: hidden;\n",
       "  text-align: left;\n",
       "  /* unfitted */\n",
       "  background-color: var(--sklearn-color-unfitted-level-0);\n",
       "}\n",
       "\n",
       "#sk-container-id-3 div.sk-toggleable__content.fitted {\n",
       "  /* fitted */\n",
       "  background-color: var(--sklearn-color-fitted-level-0);\n",
       "}\n",
       "\n",
       "#sk-container-id-3 div.sk-toggleable__content pre {\n",
       "  margin: 0.2em;\n",
       "  border-radius: 0.25em;\n",
       "  color: var(--sklearn-color-text);\n",
       "  /* unfitted */\n",
       "  background-color: var(--sklearn-color-unfitted-level-0);\n",
       "}\n",
       "\n",
       "#sk-container-id-3 div.sk-toggleable__content.fitted pre {\n",
       "  /* unfitted */\n",
       "  background-color: var(--sklearn-color-fitted-level-0);\n",
       "}\n",
       "\n",
       "#sk-container-id-3 input.sk-toggleable__control:checked~div.sk-toggleable__content {\n",
       "  /* Expand drop-down */\n",
       "  max-height: 200px;\n",
       "  max-width: 100%;\n",
       "  overflow: auto;\n",
       "}\n",
       "\n",
       "#sk-container-id-3 input.sk-toggleable__control:checked~label.sk-toggleable__label-arrow:before {\n",
       "  content: \"▾\";\n",
       "}\n",
       "\n",
       "/* Pipeline/ColumnTransformer-specific style */\n",
       "\n",
       "#sk-container-id-3 div.sk-label input.sk-toggleable__control:checked~label.sk-toggleable__label {\n",
       "  color: var(--sklearn-color-text);\n",
       "  background-color: var(--sklearn-color-unfitted-level-2);\n",
       "}\n",
       "\n",
       "#sk-container-id-3 div.sk-label.fitted input.sk-toggleable__control:checked~label.sk-toggleable__label {\n",
       "  background-color: var(--sklearn-color-fitted-level-2);\n",
       "}\n",
       "\n",
       "/* Estimator-specific style */\n",
       "\n",
       "/* Colorize estimator box */\n",
       "#sk-container-id-3 div.sk-estimator input.sk-toggleable__control:checked~label.sk-toggleable__label {\n",
       "  /* unfitted */\n",
       "  background-color: var(--sklearn-color-unfitted-level-2);\n",
       "}\n",
       "\n",
       "#sk-container-id-3 div.sk-estimator.fitted input.sk-toggleable__control:checked~label.sk-toggleable__label {\n",
       "  /* fitted */\n",
       "  background-color: var(--sklearn-color-fitted-level-2);\n",
       "}\n",
       "\n",
       "#sk-container-id-3 div.sk-label label.sk-toggleable__label,\n",
       "#sk-container-id-3 div.sk-label label {\n",
       "  /* The background is the default theme color */\n",
       "  color: var(--sklearn-color-text-on-default-background);\n",
       "}\n",
       "\n",
       "/* On hover, darken the color of the background */\n",
       "#sk-container-id-3 div.sk-label:hover label.sk-toggleable__label {\n",
       "  color: var(--sklearn-color-text);\n",
       "  background-color: var(--sklearn-color-unfitted-level-2);\n",
       "}\n",
       "\n",
       "/* Label box, darken color on hover, fitted */\n",
       "#sk-container-id-3 div.sk-label.fitted:hover label.sk-toggleable__label.fitted {\n",
       "  color: var(--sklearn-color-text);\n",
       "  background-color: var(--sklearn-color-fitted-level-2);\n",
       "}\n",
       "\n",
       "/* Estimator label */\n",
       "\n",
       "#sk-container-id-3 div.sk-label label {\n",
       "  font-family: monospace;\n",
       "  font-weight: bold;\n",
       "  display: inline-block;\n",
       "  line-height: 1.2em;\n",
       "}\n",
       "\n",
       "#sk-container-id-3 div.sk-label-container {\n",
       "  text-align: center;\n",
       "}\n",
       "\n",
       "/* Estimator-specific */\n",
       "#sk-container-id-3 div.sk-estimator {\n",
       "  font-family: monospace;\n",
       "  border: 1px dotted var(--sklearn-color-border-box);\n",
       "  border-radius: 0.25em;\n",
       "  box-sizing: border-box;\n",
       "  margin-bottom: 0.5em;\n",
       "  /* unfitted */\n",
       "  background-color: var(--sklearn-color-unfitted-level-0);\n",
       "}\n",
       "\n",
       "#sk-container-id-3 div.sk-estimator.fitted {\n",
       "  /* fitted */\n",
       "  background-color: var(--sklearn-color-fitted-level-0);\n",
       "}\n",
       "\n",
       "/* on hover */\n",
       "#sk-container-id-3 div.sk-estimator:hover {\n",
       "  /* unfitted */\n",
       "  background-color: var(--sklearn-color-unfitted-level-2);\n",
       "}\n",
       "\n",
       "#sk-container-id-3 div.sk-estimator.fitted:hover {\n",
       "  /* fitted */\n",
       "  background-color: var(--sklearn-color-fitted-level-2);\n",
       "}\n",
       "\n",
       "/* Specification for estimator info (e.g. \"i\" and \"?\") */\n",
       "\n",
       "/* Common style for \"i\" and \"?\" */\n",
       "\n",
       ".sk-estimator-doc-link,\n",
       "a:link.sk-estimator-doc-link,\n",
       "a:visited.sk-estimator-doc-link {\n",
       "  float: right;\n",
       "  font-size: smaller;\n",
       "  line-height: 1em;\n",
       "  font-family: monospace;\n",
       "  background-color: var(--sklearn-color-background);\n",
       "  border-radius: 1em;\n",
       "  height: 1em;\n",
       "  width: 1em;\n",
       "  text-decoration: none !important;\n",
       "  margin-left: 1ex;\n",
       "  /* unfitted */\n",
       "  border: var(--sklearn-color-unfitted-level-1) 1pt solid;\n",
       "  color: var(--sklearn-color-unfitted-level-1);\n",
       "}\n",
       "\n",
       ".sk-estimator-doc-link.fitted,\n",
       "a:link.sk-estimator-doc-link.fitted,\n",
       "a:visited.sk-estimator-doc-link.fitted {\n",
       "  /* fitted */\n",
       "  border: var(--sklearn-color-fitted-level-1) 1pt solid;\n",
       "  color: var(--sklearn-color-fitted-level-1);\n",
       "}\n",
       "\n",
       "/* On hover */\n",
       "div.sk-estimator:hover .sk-estimator-doc-link:hover,\n",
       ".sk-estimator-doc-link:hover,\n",
       "div.sk-label-container:hover .sk-estimator-doc-link:hover,\n",
       ".sk-estimator-doc-link:hover {\n",
       "  /* unfitted */\n",
       "  background-color: var(--sklearn-color-unfitted-level-3);\n",
       "  color: var(--sklearn-color-background);\n",
       "  text-decoration: none;\n",
       "}\n",
       "\n",
       "div.sk-estimator.fitted:hover .sk-estimator-doc-link.fitted:hover,\n",
       ".sk-estimator-doc-link.fitted:hover,\n",
       "div.sk-label-container:hover .sk-estimator-doc-link.fitted:hover,\n",
       ".sk-estimator-doc-link.fitted:hover {\n",
       "  /* fitted */\n",
       "  background-color: var(--sklearn-color-fitted-level-3);\n",
       "  color: var(--sklearn-color-background);\n",
       "  text-decoration: none;\n",
       "}\n",
       "\n",
       "/* Span, style for the box shown on hovering the info icon */\n",
       ".sk-estimator-doc-link span {\n",
       "  display: none;\n",
       "  z-index: 9999;\n",
       "  position: relative;\n",
       "  font-weight: normal;\n",
       "  right: .2ex;\n",
       "  padding: .5ex;\n",
       "  margin: .5ex;\n",
       "  width: min-content;\n",
       "  min-width: 20ex;\n",
       "  max-width: 50ex;\n",
       "  color: var(--sklearn-color-text);\n",
       "  box-shadow: 2pt 2pt 4pt #999;\n",
       "  /* unfitted */\n",
       "  background: var(--sklearn-color-unfitted-level-0);\n",
       "  border: .5pt solid var(--sklearn-color-unfitted-level-3);\n",
       "}\n",
       "\n",
       ".sk-estimator-doc-link.fitted span {\n",
       "  /* fitted */\n",
       "  background: var(--sklearn-color-fitted-level-0);\n",
       "  border: var(--sklearn-color-fitted-level-3);\n",
       "}\n",
       "\n",
       ".sk-estimator-doc-link:hover span {\n",
       "  display: block;\n",
       "}\n",
       "\n",
       "/* \"?\"-specific style due to the `<a>` HTML tag */\n",
       "\n",
       "#sk-container-id-3 a.estimator_doc_link {\n",
       "  float: right;\n",
       "  font-size: 1rem;\n",
       "  line-height: 1em;\n",
       "  font-family: monospace;\n",
       "  background-color: var(--sklearn-color-background);\n",
       "  border-radius: 1rem;\n",
       "  height: 1rem;\n",
       "  width: 1rem;\n",
       "  text-decoration: none;\n",
       "  /* unfitted */\n",
       "  color: var(--sklearn-color-unfitted-level-1);\n",
       "  border: var(--sklearn-color-unfitted-level-1) 1pt solid;\n",
       "}\n",
       "\n",
       "#sk-container-id-3 a.estimator_doc_link.fitted {\n",
       "  /* fitted */\n",
       "  border: var(--sklearn-color-fitted-level-1) 1pt solid;\n",
       "  color: var(--sklearn-color-fitted-level-1);\n",
       "}\n",
       "\n",
       "/* On hover */\n",
       "#sk-container-id-3 a.estimator_doc_link:hover {\n",
       "  /* unfitted */\n",
       "  background-color: var(--sklearn-color-unfitted-level-3);\n",
       "  color: var(--sklearn-color-background);\n",
       "  text-decoration: none;\n",
       "}\n",
       "\n",
       "#sk-container-id-3 a.estimator_doc_link.fitted:hover {\n",
       "  /* fitted */\n",
       "  background-color: var(--sklearn-color-fitted-level-3);\n",
       "}\n",
       "</style><div id=\"sk-container-id-3\" class=\"sk-top-container\"><div class=\"sk-text-repr-fallback\"><pre>LinearRegression()</pre><b>In a Jupyter environment, please rerun this cell to show the HTML representation or trust the notebook. <br />On GitHub, the HTML representation is unable to render, please try loading this page with nbviewer.org.</b></div><div class=\"sk-container\" hidden><div class=\"sk-item\"><div class=\"sk-estimator fitted sk-toggleable\"><input class=\"sk-toggleable__control sk-hidden--visually\" id=\"sk-estimator-id-3\" type=\"checkbox\" checked><label for=\"sk-estimator-id-3\" class=\"sk-toggleable__label fitted sk-toggleable__label-arrow fitted\">&nbsp;&nbsp;LinearRegression<a class=\"sk-estimator-doc-link fitted\" rel=\"noreferrer\" target=\"_blank\" href=\"https://scikit-learn.org/1.5/modules/generated/sklearn.linear_model.LinearRegression.html\">?<span>Documentation for LinearRegression</span></a><span class=\"sk-estimator-doc-link fitted\">i<span>Fitted</span></span></label><div class=\"sk-toggleable__content fitted\"><pre>LinearRegression()</pre></div> </div></div></div></div>"
      ],
      "text/plain": [
       "LinearRegression()"
      ]
     },
     "execution_count": 134,
     "metadata": {},
     "output_type": "execute_result"
    }
   ],
   "source": [
    "lr_model_test"
   ]
  },
  {
   "cell_type": "code",
   "execution_count": 138,
   "id": "077db18a-a6bb-46d5-9623-4b39997827ea",
   "metadata": {},
   "outputs": [
    {
     "name": "stdout",
     "output_type": "stream",
     "text": [
      "[0 0 0 0 0]\n",
      "\n"
     ]
    },
    {
     "data": {
      "text/plain": [
       "array([40, 19,  2,  0,  1])"
      ]
     },
     "execution_count": 138,
     "metadata": {},
     "output_type": "execute_result"
    }
   ],
   "source": [
    "age = 40\n",
    "bmi = 19\n",
    "children = 2\n",
    "column_names = json_data['columns']\n",
    "smoker = 'no'\n",
    "region = 'southeast'\n",
    "\n",
    "smoker_val = json_data['smoker'][smoker]\n",
    "regio_val = json_data['region'][region]\n",
    "array = np.zeros(len(columns),dtype = int)\n",
    "print(array)\n",
    "print()\n",
    "array[0] = age\n",
    "array[1] = bmi\n",
    "array[2] = children\n",
    "array[3] = smoker_val\n",
    "array[4] = regio_val\n",
    "array"
   ]
  },
  {
   "cell_type": "markdown",
   "id": "5230d2cf-5969-4c74-9ddf-f182893fb730",
   "metadata": {},
   "source": [
    "### Predict charges based on Model- Save in pickle...."
   ]
  },
  {
   "cell_type": "code",
   "execution_count": 141,
   "id": "bca3e2f5-86da-4a7e-806d-5bbc8b7ee834",
   "metadata": {},
   "outputs": [
    {
     "data": {
      "text/plain": [
       "array([4743.00492788])"
      ]
     },
     "execution_count": 141,
     "metadata": {},
     "output_type": "execute_result"
    }
   ],
   "source": [
    "# we passed in Linear Model predict in 2D array..check above it is already 1D array ([]) so pass addon []\n",
    "predicted_charges = lr_model_test.predict([array])\n",
    "predicted_charges"
   ]
  },
  {
   "cell_type": "code",
   "execution_count": 143,
   "id": "53ca4e99-2ca7-45f8-9496-d9d8eac9ac81",
   "metadata": {},
   "outputs": [
    {
     "data": {
      "text/plain": [
       "4743.004927881126"
      ]
     },
     "execution_count": 143,
     "metadata": {},
     "output_type": "execute_result"
    }
   ],
   "source": [
    "predicted_charges = lr_model_test.predict([array])[0]\n",
    "predicted_charges"
   ]
  },
  {
   "cell_type": "code",
   "execution_count": 145,
   "id": "59a55bef-028d-43be-93d8-831cb3252895",
   "metadata": {},
   "outputs": [
    {
     "name": "stdout",
     "output_type": "stream",
     "text": [
      "Your Insurance charges are:  4743.0\n"
     ]
    }
   ],
   "source": [
    "predicted_charges = np.around(lr_model_test.predict([array])[0],2)\n",
    "print(\"Your Insurance charges are: \",predicted_charges)"
   ]
  },
  {
   "cell_type": "code",
   "execution_count": null,
   "id": "472cb963-16b9-452d-bb27-00d190326523",
   "metadata": {},
   "outputs": [],
   "source": []
  },
  {
   "cell_type": "code",
   "execution_count": null,
   "id": "adb86b85-00f6-4fb5-810b-ffdbc3094570",
   "metadata": {},
   "outputs": [],
   "source": []
  },
  {
   "cell_type": "code",
   "execution_count": null,
   "id": "720f7057-2f4f-4d9e-b26b-e58a41315118",
   "metadata": {},
   "outputs": [],
   "source": []
  },
  {
   "cell_type": "code",
   "execution_count": null,
   "id": "8d98c1c0-8ae6-42d4-b1eb-92e20092cf7a",
   "metadata": {},
   "outputs": [],
   "source": []
  },
  {
   "cell_type": "code",
   "execution_count": null,
   "id": "8f8494a0-f553-4964-a9ba-e25442399ce6",
   "metadata": {},
   "outputs": [],
   "source": []
  },
  {
   "cell_type": "code",
   "execution_count": null,
   "id": "b27455a1-59fa-4bf4-b079-cfcc71923aaf",
   "metadata": {},
   "outputs": [],
   "source": []
  },
  {
   "cell_type": "code",
   "execution_count": null,
   "id": "51f7605f-8e86-44e6-9198-49ad025ea9c9",
   "metadata": {},
   "outputs": [],
   "source": []
  },
  {
   "cell_type": "code",
   "execution_count": null,
   "id": "ccbe0de0-fb18-4ad0-af22-09e33ad4623c",
   "metadata": {},
   "outputs": [],
   "source": []
  },
  {
   "cell_type": "code",
   "execution_count": null,
   "id": "387c3099-563d-467e-8c09-ee6b79ada09e",
   "metadata": {},
   "outputs": [],
   "source": []
  },
  {
   "cell_type": "code",
   "execution_count": null,
   "id": "33b059df-7c9e-4969-808f-5510b95c038f",
   "metadata": {},
   "outputs": [],
   "source": []
  },
  {
   "cell_type": "code",
   "execution_count": null,
   "id": "584d0561-3d28-45b5-ade6-38676ca79065",
   "metadata": {},
   "outputs": [],
   "source": []
  },
  {
   "cell_type": "code",
   "execution_count": null,
   "id": "fa1ee1b1-5310-47f4-95d9-489dd1e91c71",
   "metadata": {},
   "outputs": [],
   "source": []
  },
  {
   "cell_type": "code",
   "execution_count": null,
   "id": "861f8fbe-b203-4b02-9d81-cc31009fe5dd",
   "metadata": {},
   "outputs": [],
   "source": []
  },
  {
   "cell_type": "code",
   "execution_count": null,
   "id": "5baf0a06-563b-4c8e-addb-169265b794af",
   "metadata": {},
   "outputs": [],
   "source": []
  },
  {
   "cell_type": "code",
   "execution_count": null,
   "id": "66bce11d-a116-4ec2-ad78-a4fc11c2e3d4",
   "metadata": {},
   "outputs": [],
   "source": []
  },
  {
   "cell_type": "code",
   "execution_count": null,
   "id": "1d0e9d5b-d59c-4cb4-8a36-7dfd20178456",
   "metadata": {},
   "outputs": [],
   "source": []
  },
  {
   "cell_type": "markdown",
   "id": "62a5812c-95c9-4178-a093-48f46fbfcb1d",
   "metadata": {},
   "source": [
    "## **To improve performance of Model by PolynomialFeatures....->**"
   ]
  },
  {
   "cell_type": "code",
   "execution_count": 57,
   "id": "a1bf8b18-8823-45de-859e-b0a9748243c4",
   "metadata": {},
   "outputs": [],
   "source": [
    "from sklearn.model_selection import train_test_split, GridSearchCV\n",
    "from sklearn.linear_model import LinearRegression, Ridge, Lasso\n",
    "from sklearn.preprocessing import PolynomialFeatures #Chatgpt"
   ]
  },
  {
   "cell_type": "markdown",
   "id": "8f47f81e-fff0-409b-85c0-9793de9ad73f",
   "metadata": {},
   "source": [
    "### Take input from user..>>>>>>>>.for (age,bmi,children,smoker,region)"
   ]
  },
  {
   "cell_type": "raw",
   "id": "297609b3-ab75-4835-9d2b-85832e1a6764",
   "metadata": {},
   "source": [
    "#### import pandas as pd\n",
    "import numpy as np\n",
    "from sklearn.model_selection import train_test_split\n",
    "from sklearn.linear_model import LinearRegression\n",
    "from sklearn.preprocessing import PolynomialFeatures\n",
    "\n",
    "\n",
    "# Create DataFrame\n",
    "\n",
    "# Split into features and target\n",
    "X = df1.drop(columns=['charges'])\n",
    "y = df1['charges']\n",
    "\n",
    "# Split into training and testing sets\n",
    "X_train, X_test, y_train, y_test = train_test_split(X, y, test_size=0.2, random_state=42)\n",
    "\n",
    "# Create and fit PolynomialFeatures\n",
    "poly = PolynomialFeatures(degree=2, include_bias=False)\n",
    "X_train_poly = poly.fit_transform(X_train)\n",
    "\n",
    "# Train Linear Regression model\n",
    "model = LinearRegression()\n",
    "model.fit(X_train_poly, y_train)\n",
    "\n",
    "# Function to get charges based on user input\n",
    "def get_charges(age, bmi, children, smoker, region):\n",
    "    # Create DataFrame with user input\n",
    "    df_ = pd.DataFrame({'age': [age],\n",
    "                        'bmi': [bmi],\n",
    "                        'children': [children],\n",
    "                        'smoker': [smoker],\n",
    "                        'region': [region]})\n",
    "    \n",
    "    # Transform the input features using the fitted PolynomialFeatures instance\n",
    "    df_poly = poly.transform(df_)\n",
    "\n",
    "    # Make predictions using the transformed input\n",
    "    predicted_charge = model.predict(df_poly)\n",
    "\n",
    "    return f\"Your insurance charges are: {predicted_charge[0]}\"\n",
    "\n",
    "# User input\n",
    "age = int(input(\"Enter age: \"))\n",
    "bmi = float(input('Enter BMI: '))\n",
    "children = int(input(\"Enter number of children you have: \"))\n",
    "smoker = int(input(\"Are you a smoker [yes/no]: \").strip().lower().replace('yes', '1').replace('no', '0'))\n",
    "region = int(input(\"Enter region [southeast/southwest/northwest/northeast]: \").strip().lower().replace(\"southeast\", \"1\").replace(\"southwest\", \"2\").replace(\"northwest\", \"3\").replace(\"northeast\", \"4\"))\n",
    "\n",
    "# Call the function\n",
    "result = get_charges(age, bmi, children, smoker, region)\n",
    "print(result)\n"
   ]
  },
  {
   "cell_type": "markdown",
   "id": "638d2199-92a4-47de-9484-028f3fc5d204",
   "metadata": {},
   "source": [
    "- **Linear regression might underfit the data (high bias) but generalizes better (low variance).\n",
    "Polynomial regression might fit the training data very well (low bias) but risks overfitting (high variance).**\n",
    "- **If polynomial regression significantly improves MSE, RMSE, and R² without overfitting, it could be a better choice.\n",
    "If the linear model performs almost as well as the polynomial but with simpler relationships, it may be more stable and interpretable.\n",
    "The best way to decide is by evaluating both models with cross-validation**"
   ]
  },
  {
   "cell_type": "raw",
   "id": "90923153-2a11-4845-816b-550a5fbfbbf0",
   "metadata": {},
   "source": [
    "Bias and Variance:\n",
    "Variance :  Difference between two datasets accuracies ()\n",
    "  1. Low Variance : \n",
    "     1.1 High Training data accuracy and High Testing data accuracy\n",
    "     1.2 Low Training data accuracy and Low Testing data accuracy\n",
    "  2. High Variance :\n",
    "     2.1 High Training data accuracy and Low Testing data accuracy\n",
    "     2.2 Low Training data accuracy and High Testing data accuracy\n",
    "\n",
    "Bias (Bias means performance on one side)\n",
    "  1.Low bias : High Training data accuracy\n",
    "  2.High bias : Low Training data accuracy\n",
    "\n",
    "Best Model :\n",
    "  High Training (92)  and High testing (90)\n",
    "  i.e low bias and Low Variance"
   ]
  }
 ],
 "metadata": {
  "kernelspec": {
   "display_name": "healthcare (env)",
   "language": "python",
   "name": "myenv"
  },
  "language_info": {
   "codemirror_mode": {
    "name": "ipython",
    "version": 3
   },
   "file_extension": ".py",
   "mimetype": "text/x-python",
   "name": "python",
   "nbconvert_exporter": "python",
   "pygments_lexer": "ipython3",
   "version": "3.12.7"
  }
 },
 "nbformat": 4,
 "nbformat_minor": 5
}
